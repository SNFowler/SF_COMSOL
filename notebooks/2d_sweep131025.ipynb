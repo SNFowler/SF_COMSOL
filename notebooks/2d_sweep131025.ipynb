{
 "cells": [
  {
   "cell_type": "code",
   "execution_count": null,
   "id": "8df57671",
   "metadata": {},
   "outputs": [
    {
     "name": "stdout",
     "output_type": "stream",
     "text": [
      "Params: [0.19 0.23],Loss: -53958274241889.875, ||grad||: 5.759800e+17, grad: [-4.15396668e+17 -3.98996936e+17]\n",
      "Params: [0.19 0.25],Loss: -3242125454566068.5, ||grad||: 4.392382e+19, grad: [-3.13396035e+19 -3.07754985e+19]\n",
      "Params: [0.19 0.27],Loss: -6806547480579875.0, ||grad||: 1.758316e+19, grad: [1.51288115e+19 8.96028266e+18]\n",
      "Params: [0.2  0.23],Loss: -265927330460684.75, ||grad||: 2.227439e+18, grad: [-1.57788532e+18 -1.57218426e+18]\n",
      "Params: [0.2  0.25],Loss: -9407775705758358.0, ||grad||: 1.973341e+20, grad: [-1.41439169e+20 -1.37607068e+20]\n",
      "Params: [0.2  0.27],Loss: -3562583939890480.5, ||grad||: 2.120473e+18, grad: [1.81434602e+18 1.09752256e+18]\n",
      "Params: [0.21 0.23],Loss: -1900199063072076.0, ||grad||: 2.406089e+19, grad: [-1.95932371e+19 -1.39653590e+19]\n",
      "Params: [0.21 0.25],Loss: -1.0532288533235558e+16, ||grad||: 8.635853e+19, grad: [7.40044281e+19 4.45100029e+19]\n",
      "Params: [0.21 0.27],Loss: -2487345338543664.5, ||grad||: 5.608902e+17, grad: [5.17001673e+17 2.17502042e+17]\n",
      "Wrote: results/grid_20251014_004421\\sweep_20251014_004913.jsonl\n"
     ]
    }
   ],
   "source": [
    "import os, numpy as np\n",
    "from SQDMetal.COMSOL.Model import COMSOL_Model\n",
    "from adjoint_sim_sf.ParametricDesign import SymmetricTransmonDesign\n",
    "from adjoint_sim_sf import Experiment\n",
    "from datetime import datetime\n",
    "from adjoint_sim_sf import AdjointEvaluator, Optimiser\n",
    "\n",
    "if COMSOL_Model._engine is None:\n",
    "    COMSOL_Model.init_engine()\n",
    "\n",
    "# 2) Config (only keys that AdjointEvaluator.update_params understands)\n",
    "base_config = {\n",
    "    \"freq_value\": 8e9,\n",
    "    \"num_adj_sample_points\": 20,\n",
    "    \"param_perturbation\": [1e-5],\n",
    "    \"fwd_source_strength\": 1e-2,\n",
    "    \"adjoint_rotation\": float(np.pi / 2),\n",
    "}\n",
    "\n",
    "# 3) Objects\n",
    "designer   = SymmetricTransmonDesign()\n",
    "evaluator  = AdjointEvaluator(designer, config=base_config)\n",
    "experiment = Experiment(name=f\"grid_{datetime.now():%Y%m%d_%H%M%S}\")\n",
    "\n",
    "# 4) 3x3 grid\n",
    "x_vals = np.array([0.19, 0.20, 0.21], float)\n",
    "y_vals = np.array([0.23, 0.25, 0.27], float)\n",
    "param_grid = np.array([[x, y] for x in x_vals for y in y_vals], dtype=float)\n",
    "\n",
    "# 5) Optimiser + sweep\n",
    "initial_params = np.array([0.20, 0.20], float)\n",
    "lr = 0.01\n",
    "opt = Optimiser(initial_params=initial_params, lr=lr, evaluator=evaluator)\n",
    "\n",
    "results = opt.sweep(param_grid, perturbation_mag=None, verbose=True)\n",
    "\n",
    "# 6) Persist config + results\n",
    "# Save the exact evaluator config that actually ran (arrays converted to lists)\n",
    "experiment.save_config({\n",
    "    \"adjoint_evaluator\": evaluator.to_config_dict(),\n",
    "    \"grid\": {\"x_vals\": x_vals.tolist(), \"y_vals\": y_vals.tolist()},\n",
    "    \"initial_params\": initial_params.tolist(),\n",
    "    \"lr\": lr,\n",
    "})\n",
    "\n",
    "results_filename = f\"sweep_{datetime.now():%Y%m%d_%H%M%S}.jsonl\"\n",
    "experiment.save_results(results, results_filename)\n",
    "\n",
    "print(\"Wrote:\", experiment.path(results_filename))\n"
   ]
  }
 ],
 "metadata": {
  "kernelspec": {
   "display_name": "sqdmetal_sf",
   "language": "python",
   "name": "python3"
  },
  "language_info": {
   "codemirror_mode": {
    "name": "ipython",
    "version": 3
   },
   "file_extension": ".py",
   "mimetype": "text/x-python",
   "name": "python",
   "nbconvert_exporter": "python",
   "pygments_lexer": "ipython3",
   "version": "3.11.3"
  }
 },
 "nbformat": 4,
 "nbformat_minor": 5
}
