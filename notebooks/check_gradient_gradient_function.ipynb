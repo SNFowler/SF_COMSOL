{
 "cells": [
  {
   "cell_type": "code",
   "execution_count": null,
   "id": "6c458ac9",
   "metadata": {},
   "outputs": [
    {
     "ename": "AttributeError",
     "evalue": "'numpy.ndarray' object has no attribute 'shuffle'",
     "output_type": "error",
     "traceback": [
      "\u001b[1;31m---------------------------------------------------------------------------\u001b[0m",
      "\u001b[1;31mAttributeError\u001b[0m                            Traceback (most recent call last)",
      "Cell \u001b[1;32mIn[2], line 10\u001b[0m\n\u001b[0;32m      7\u001b[0m \u001b[38;5;28;01mdef\u001b[39;00m \u001b[38;5;21mfgrad\u001b[39m(x,y):\n\u001b[0;32m      8\u001b[0m     \u001b[38;5;28;01mreturn\u001b[39;00m [\u001b[38;5;241m3\u001b[39m \u001b[38;5;241m+\u001b[39m \u001b[38;5;241m2\u001b[39m\u001b[38;5;241m*\u001b[39mx, \u001b[38;5;241m4\u001b[39m\u001b[38;5;241m*\u001b[39my\u001b[38;5;241m*\u001b[39m\u001b[38;5;241m*\u001b[39m\u001b[38;5;241m3\u001b[39m]\n\u001b[1;32m---> 10\u001b[0m x_vals \u001b[38;5;241m=\u001b[39m \u001b[43mnp\u001b[49m\u001b[38;5;241;43m.\u001b[39;49m\u001b[43mlinspace\u001b[49m\u001b[43m(\u001b[49m\u001b[38;5;241;43m0.19\u001b[39;49m\u001b[43m,\u001b[49m\u001b[43m \u001b[49m\u001b[38;5;241;43m0.21\u001b[39;49m\u001b[43m,\u001b[49m\u001b[43m \u001b[49m\u001b[38;5;241;43m11\u001b[39;49m\u001b[43m \u001b[49m\u001b[43m,\u001b[49m\u001b[38;5;28;43mfloat\u001b[39;49m\u001b[43m)\u001b[49m\u001b[38;5;241;43m.\u001b[39;49m\u001b[43mshuffle\u001b[49m()\n\u001b[0;32m     11\u001b[0m y_vals \u001b[38;5;241m=\u001b[39m np\u001b[38;5;241m.\u001b[39mlinspace(\u001b[38;5;241m0.24\u001b[39m, \u001b[38;5;241m0.26\u001b[39m, \u001b[38;5;241m11\u001b[39m,\u001b[38;5;28mfloat\u001b[39m)\n\u001b[0;32m     12\u001b[0m param_grid \u001b[38;5;241m=\u001b[39m np\u001b[38;5;241m.\u001b[39marray([[x, y] \u001b[38;5;28;01mfor\u001b[39;00m x \u001b[38;5;129;01min\u001b[39;00m x_vals \u001b[38;5;28;01mfor\u001b[39;00m y \u001b[38;5;129;01min\u001b[39;00m y_vals], dtype\u001b[38;5;241m=\u001b[39m\u001b[38;5;28mfloat\u001b[39m)\n",
      "\u001b[1;31mAttributeError\u001b[0m: 'numpy.ndarray' object has no attribute 'shuffle'"
     ]
    }
   ],
   "source": [
    "import numpy as np\n",
    "from adjoint_sim_sf import Experiment\n",
    "\n",
    "def f(x, y):\n",
    "    return 3*x + y**4 + x**2\n",
    "\n",
    "def fgrad(x,y):\n",
    "    return [3 + 2*x, 4*y**3]\n",
    "\n",
    "x_vals = np.linspace(0.19, 0.21, 11 ,float)\n",
    "y_vals = np.linspace(0.24, 0.26, 11,float)\n",
    "param_grid = np.array([[x, y] for x in x_vals for y in y_vals], dtype=float)\n",
    "\n",
    "f_vals = np.array([f(p[0], p[1]) for p in param_grid])\n",
    "adj_grad = np.array([fgrad(p[0], p[1]) for p in param_grid])\n",
    "\n",
    "exp = Experiment(name=\"test\")\n",
    "\n",
    "obj = exp.compute_numeric_grads(param_grid, f_vals, adj_grad)\n",
    "print(np.hstack((obj[\"numeric_grad_array\"], obj[\"valid_adj_grad_array\"])))\n"
   ]
  }
 ],
 "metadata": {
  "kernelspec": {
   "display_name": "sqdmetal_sf",
   "language": "python",
   "name": "python3"
  },
  "language_info": {
   "codemirror_mode": {
    "name": "ipython",
    "version": 3
   },
   "file_extension": ".py",
   "mimetype": "text/x-python",
   "name": "python",
   "nbconvert_exporter": "python",
   "pygments_lexer": "ipython3",
   "version": "3.11.3"
  }
 },
 "nbformat": 4,
 "nbformat_minor": 5
}
