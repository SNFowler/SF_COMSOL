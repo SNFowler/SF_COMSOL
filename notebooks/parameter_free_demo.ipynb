{
 "cells": [
  {
   "cell_type": "markdown",
   "id": "a0aae894",
   "metadata": {},
   "source": [
    "Demonstrating that the \"gradient field\" can be viewed irrespective of the underlying parametrisation to guide design principles."
   ]
  },
  {
   "cell_type": "code",
   "execution_count": 1,
   "id": "e7b523a5",
   "metadata": {},
   "outputs": [],
   "source": [
    "%load_ext autoreload\n",
    "%autoreload 2\n",
    "\n",
    "# sweep.ipynb\n",
    "\n",
    "import numpy as np\n",
    "from datetime import datetime\n",
    "\n",
    "from SQDMetal.COMSOL.Model import COMSOL_Model\n",
    "from adjoint_sim_sf.ParametricDesign import SymmetricTransmonDesign\n",
    "from adjoint_sim_sf.AdjointSolver import AdjointEvaluator\n",
    "from adjoint_sim_sf.Optimiser import Optimiser\n",
    "from adjoint_sim_sf import Experiment\n",
    "\n",
    "from SQDMetal.COMSOL.Model import COMSOL_Model\n",
    "from SQDMetal.COMSOL.SimCapacitance import COMSOL_Simulation_CapMats\n",
    "from SQDMetal.COMSOL.SimRFsParameter import COMSOL_Simulation_RFsParameters\n",
    "\n",
    "\n",
    "# 1) COMSOL engine\n",
    "if COMSOL_Model._engine is None:\n",
    "    COMSOL_Model.init_engine()\n",
    "\n",
    "# 2) Evaluator config (must match AdjointEvaluator.update_params / attributes)\n",
    "base_config = {\n",
    "    \"freq_value\": 8e9,\n",
    "    \"num_adj_sample_points\": 40,\n",
    "    \"param_perturbation\": [1e-5],\n",
    "    \"fwd_source_strength\": 1e-2,\n",
    "    \"adjoint_rotation\": float(np.pi / 2),\n",
    "}\n",
    "\n",
    "# 3) Objects\n",
    "designer  = SymmetricTransmonDesign()\n",
    "evaluator = AdjointEvaluator(designer, config=base_config)\n",
    "\n",
    "# (Optional) deterministic sampling for EPR sources across sweeps\n",
    "evaluator.random_seed = 12345\n",
    "\n"
   ]
  },
  {
   "cell_type": "code",
   "execution_count": null,
   "id": "ef62ebc7",
   "metadata": {},
   "outputs": [],
   "source": [
    "import math\n",
    "# Default folder: exp_YYYYMMDD-HH%M-%S (comes from Experiment.__init__)\n",
    "exp = Experiment(name=f\"parameter_free_demo{datetime.now().strftime('%Y%m%d-%H%M-%S')}.ipynb\")\n",
    "\n",
    "\n",
    "\n"
   ]
  },
  {
   "cell_type": "code",
   "execution_count": null,
   "id": "eb1ae9d3",
   "metadata": {},
   "outputs": [],
   "source": [
    "params = np.array([0.233, 0.25])\n",
    "qk_design = evaluator.parametric_designer.build_qk_design(params)\n",
    "\n",
    "# Run the forward and adjoint calculations, only for jj source\n",
    "fwd_sparams = evaluator._fwd_calculation(qk_design)\n",
    "jj_sources = evaluator._get_objective_info(params, \"jj\")\n",
    "adj_sparams = evaluator._adjoint_calculation(qk_design, fwd_sparams)\n",
    "\n",
    "#Extract the \"gradient field\" for parameter-free visualisation\n",
    "\n",
    "fwd_E_dict = fwd_sparams.eval_fields_over_mesh()    # returns  {'coords': np.vstack([x,y,z]).T,\n",
    "                                                    # 'E': np.vstack([Ex,Ey,Ez]).T, ... other fields\n",
    "\n",
    "\n",
    "meshcoords = fwd_E_dict['coords']  # N x 3 array of xyz coordinates\n",
    "fwd_E_vals = fwd_E_dict['E']\n",
    "\n",
    "adj_E_vals = adj_sparams.eval_field_at_pts('E', meshcoords)  # N x 3 array of Ex,Ey,Ez at meshcoords\n",
    "\n",
    "Enp = np.array(fwd_E_vals)\n",
    "\n",
    "Vnp = np.array(adj_E_vals)\n",
    "coordnp = np.array(meshcoords)\n",
    "\n",
    "phase = np.exp(1j * math.pi / 2) \n",
    "\n",
    "# confusingly, need to NOT conjugate Vnp here to match adjoint calc because it is already done during the simulation.\n",
    "pairwise_ip = np.einsum('ij, ij->i', Vnp * phase, Enp)\n",
    "import matplotlib.pyplot as plt\n",
    "import numpy as np\n",
    "\n",
    "# We are filtering out only the field directly above the transmon.\n",
    "x_min, x_max = -5e-4, 5e-4  # the outer \"ground\" metal square.\n",
    "y_min, y_max = -5e-4, 5e-4\n",
    "z_min, z_max = 0, 1e-6  # micrometer slice\n",
    "\n",
    "# Combine all filters\n",
    "mask = (\n",
    "    (coordnp[:, 0] >= x_min) & (coordnp[:, 0] <= x_max) &\n",
    "    (coordnp[:, 1] >= y_min) & (coordnp[:, 1] <= y_max) &\n",
    "    (coordnp[:, 2] >= z_min) & (coordnp[:, 2] <= z_max)\n",
    ")\n",
    "\n",
    "# Apply mask\n",
    "filtered_coords = coordnp[mask]\n",
    "filtered_values = np.real(pairwise_ip[mask])\n",
    "\n",
    "# Multicolor mapping\n",
    "colors = np.select(\n",
    "    [\n",
    "        (filtered_values >= 0) & (filtered_values < 1e20),\n",
    "        (filtered_values >= 1e20),\n",
    "        (filtered_values < 0) & (filtered_values > -1e20),\n",
    "        (filtered_values <= -1e20)\n",
    "    ],\n",
    "    ['deepskyblue', 'navy', 'lightcoral', 'darkred'],\n",
    "    default='gray'\n",
    ")\n",
    "\n",
    "# Plot\n",
    "fig, ax = plt.subplots(figsize=(6, 5))\n",
    "ax.scatter(filtered_coords[:, 0], filtered_coords[:, 1],\n",
    "           c=colors, s=5)\n",
    "\n",
    "ax.set_xlabel('x (m)')\n",
    "ax.set_ylabel('y (m)')\n",
    "ax.set_title(rf\"$\\mathrm{{Re}}(v^\\dagger E)$, transmon too big\")\n",
    "\n",
    "plt.show()\n"
   ]
  },
  {
   "cell_type": "code",
   "execution_count": null,
   "id": "cab1ef1e",
   "metadata": {},
   "outputs": [],
   "source": [
    "\n"
   ]
  },
  {
   "cell_type": "code",
   "execution_count": 11,
   "id": "5a00f5a8",
   "metadata": {},
   "outputs": [
    {
     "name": "stderr",
     "output_type": "stream",
     "text": [
      "WARNING:py.warnings:c:\\Users\\Experiment\\anaconda3\\envs\\sqdmetal_sf\\Lib\\site-packages\\matplotlib\\collections.py:192: ComplexWarning: Casting complex values to real discards the imaginary part\n",
      "  offsets = np.asanyarray(offsets, float)\n",
      "\n"
     ]
    }
   ],
   "source": [
    "import matplotlib.pyplot as plt\n",
    "import numpy as np\n",
    "\n",
    "# Define your filter bounds\n",
    "x_min, x_max = -5e-4, 5e-4\n",
    "y_min, y_max = -5e-4, 5e-4\n",
    "z_min, z_max = 0, 1e-6  # micrometer slice\n",
    "\n",
    "# Combine all filters\n",
    "mask = (\n",
    "    (coordnp[:, 0] >= x_min) & (coordnp[:, 0] <= x_max) &\n",
    "    (coordnp[:, 1] >= y_min) & (coordnp[:, 1] <= y_max) &\n",
    "    (coordnp[:, 2] >= z_min) & (coordnp[:, 2] <= z_max)\n",
    ")\n",
    "\n",
    "# Apply mask\n",
    "filtered_coords = coordnp[mask]\n",
    "filtered_values = np.real(pairwise_ip[mask])\n",
    "\n",
    "# Multicolor mapping\n",
    "colors = np.select(\n",
    "    [\n",
    "        (filtered_values >= 0) & (filtered_values < 1e20),\n",
    "        (filtered_values >= 1e20),\n",
    "        (filtered_values < 0) & (filtered_values > -1e20),\n",
    "        (filtered_values <= -1e20)\n",
    "    ],\n",
    "    ['deepskyblue', 'navy', 'lightcoral', 'darkred'],\n",
    "    default='gray'\n",
    ")\n",
    "\n",
    "# Plot\n",
    "fig, ax = plt.subplots(figsize=(6, 5))\n",
    "ax.scatter(filtered_coords[:, 0], filtered_coords[:, 1],\n",
    "           c=colors, s=5)\n",
    "\n",
    "ax.set_xlabel('x (m)')\n",
    "ax.set_ylabel('y (m)')\n",
    "ax.set_title(rf\"$\\mathrm{{Re}}(v^\\dagger E)$, transmon too big\")\n",
    "\n",
    "plt.show()\n"
   ]
  },
  {
   "cell_type": "code",
   "execution_count": 10,
   "id": "bb2efaae",
   "metadata": {},
   "outputs": [
    {
     "name": "stdout",
     "output_type": "stream",
     "text": [
      "[-6.29555205e+22 -1.00648992e+23 -9.12067821e+22 ... -3.13718986e+18\n",
      " -6.80337425e+17 -7.39350001e+18]\n"
     ]
    }
   ],
   "source": [
    "print(filtered_values)"
   ]
  }
 ],
 "metadata": {
  "kernelspec": {
   "display_name": "sqdmetal_sf",
   "language": "python",
   "name": "python3"
  },
  "language_info": {
   "codemirror_mode": {
    "name": "ipython",
    "version": 3
   },
   "file_extension": ".py",
   "mimetype": "text/x-python",
   "name": "python",
   "nbconvert_exporter": "python",
   "pygments_lexer": "ipython3",
   "version": "3.11.3"
  }
 },
 "nbformat": 4,
 "nbformat_minor": 5
}
