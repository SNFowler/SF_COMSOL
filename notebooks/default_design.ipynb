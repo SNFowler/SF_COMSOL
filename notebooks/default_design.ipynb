{
 "cells": [
  {
   "cell_type": "code",
   "execution_count": null,
   "id": "bfd51d6f",
   "metadata": {},
   "outputs": [
    {
     "name": "stderr",
     "output_type": "stream",
     "text": [
      "01:21PM 26s CRITICAL [_qt_message_handler]: line: 0, func: None(), file: None  WARNING: QWindowsNativeFileDialogBase::selectNameFilter: Invalid parameter '*.metal.py' not found in 'All Files (*)'.\n",
      "\n",
      "01:21PM 26s CRITICAL [_qt_message_handler]: line: 0, func: None(), file: None  WARNING: QWindowsNativeFileDialogBase::selectNameFilter: Invalid parameter '*.metal.py' not found in 'All Files (*)'.\n",
      "\n"
     ]
    }
   ],
   "source": [
    "%load_ext autoreload\n",
    "%autoreload 2\n",
    "\n",
    "# default_design.ipynb\n",
    "\n",
    "import numpy as np\n",
    "from datetime import datetime\n",
    "\n",
    "from SQDMetal.COMSOL.Model import COMSOL_Model\n",
    "from adjoint_sim_sf.ParametricDesign import SymmetricTransmonDesign, SymmetricTransmonBuilder\n",
    "from adjoint_sim_sf.AdjointSolver import AdjointEvaluator\n",
    "from adjoint_sim_sf.Optimiser import Optimiser\n",
    "from adjoint_sim_sf import Experiment\n",
    "\n",
    "params = np.array([0.199])\n",
    "designer  = SymmetricTransmonDesign()\n",
    "\n",
    "qk_design = designer.build_qk_design(params)\n",
    "designer._design_builder.view_design(qk_design)\n",
    "\n"
   ]
  }
 ],
 "metadata": {
  "kernelspec": {
   "display_name": "sqdmetal_sf",
   "language": "python",
   "name": "python3"
  },
  "language_info": {
   "codemirror_mode": {
    "name": "ipython",
    "version": 3
   },
   "file_extension": ".py",
   "mimetype": "text/x-python",
   "name": "python",
   "nbconvert_exporter": "python",
   "pygments_lexer": "ipython3",
   "version": "3.11.3"
  }
 },
 "nbformat": 4,
 "nbformat_minor": 5
}
