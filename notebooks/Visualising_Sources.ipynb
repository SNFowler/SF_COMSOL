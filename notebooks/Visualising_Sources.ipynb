{
 "cells": [
  {
   "cell_type": "code",
   "execution_count": 168,
   "id": "a76328b3",
   "metadata": {},
   "outputs": [
    {
     "name": "stdout",
     "output_type": "stream",
     "text": [
      "The autoreload extension is already loaded. To reload it, use:\n",
      "  %reload_ext autoreload\n"
     ]
    }
   ],
   "source": [
    "%load_ext autoreload\n",
    "%autoreload 2\n",
    "\n",
    "# try_weighting.ipynb\n",
    "\n",
    "import numpy as np\n",
    "from datetime import datetime\n",
    "\n",
    "from SQDMetal.COMSOL.Model import COMSOL_Model\n",
    "from adjoint_sim_sf.ParametricDesign import SymmetricTransmonDesign\n",
    "from adjoint_sim_sf.AdjointSolver import AdjointEvaluator\n",
    "from adjoint_sim_sf.Optimiser import Optimiser\n",
    "from adjoint_sim_sf import Experiment\n",
    "\n",
    "# 1) COMSOL engine\n",
    "if COMSOL_Model._engine is None:\n",
    "    COMSOL_Model.init_engine()\n",
    "\n",
    "# 2) Evaluator config (must match AdjointEvaluator.update_params / attributes)\n",
    "base_config = {\n",
    "    \"freq_value\": 8e9,\n",
    "    \"num_adj_sample_points\": 20,\n",
    "    \"param_perturbation\": [1e-5],\n",
    "    \"fwd_source_strength\": 1e-2,\n",
    "    \"adjoint_rotation\": float(np.pi / 2),\n",
    "}\n",
    "\n",
    "params = np.array([0.19, 0.25])\n",
    "\n",
    "# 3) Objects\n",
    "designer  = SymmetricTransmonDesign()\n",
    "evaluator = AdjointEvaluator(designer, config=base_config)"
   ]
  },
  {
   "cell_type": "code",
   "execution_count": 173,
   "id": "2fd62d0f",
   "metadata": {},
   "outputs": [
    {
     "name": "stdout",
     "output_type": "stream",
     "text": [
      "Source(location=[0.     0.     0.0001], direction=[0 1 0], strength=N/A)\n",
      "Source(location=[-2.65503221e-04  5.44275615e-05  1.00000000e-06], direction=[0 0 1], strength=N/A)\n",
      "Source(location=[-3.53909965e-05 -1.57291018e-04  1.00000000e-06], direction=[0 0 1], strength=N/A)\n"
     ]
    }
   ],
   "source": [
    "sa_sources = evaluator.get_epr_adjoint_sources(params, 500, interface=\"SA\")\n",
    "ma_sources = evaluator.get_epr_adjoint_sources(params, 500, interface=\"MA\")\n",
    "jj_sources = evaluator.get_JJ_adjoint_sources()\n",
    "\n",
    "print(jj_sources[0])\n",
    "print(sa_sources[0])\n",
    "print(ma_sources[0])"
   ]
  },
  {
   "cell_type": "code",
   "execution_count": 181,
   "id": "c3f93caf",
   "metadata": {},
   "outputs": [
    {
     "name": "stdout",
     "output_type": "stream",
     "text": [
      "Direction from source object: [0 1 0]\n"
     ]
    }
   ],
   "source": [
    "evaluator.plot_sources(jj_sources,  arrow_scale = 1)\n",
    "print(\"Direction from source object:\", jj_sources[0].direction)\n",
    "\n"
   ]
  },
  {
   "cell_type": "code",
   "execution_count": 180,
   "id": "15be029e",
   "metadata": {},
   "outputs": [
    {
     "data": {
      "text/plain": [
       "(<Figure size 1000x400 with 2 Axes>,\n",
       " (<Axes: title={'center': 'Source XY positions'}, xlabel='x (m)', ylabel='y (m)'>,\n",
       "  <Axes3D: title={'center': 'Source directions'}, xlabel='x', ylabel='y', zlabel='z'>))"
      ]
     },
     "execution_count": 180,
     "metadata": {},
     "output_type": "execute_result"
    }
   ],
   "source": [
    "evaluator.plot_sources(ma_sources, arrow_scale = 1)"
   ]
  },
  {
   "cell_type": "code",
   "execution_count": 184,
   "id": "d40ff77c",
   "metadata": {},
   "outputs": [
    {
     "data": {
      "text/plain": [
       "(<Figure size 1000x400 with 2 Axes>,\n",
       " (<Axes: title={'center': 'Source XY positions'}, xlabel='x (m)', ylabel='y (m)'>,\n",
       "  <Axes3D: title={'center': 'Source directions'}, xlabel='x', ylabel='y', zlabel='z'>))"
      ]
     },
     "execution_count": 184,
     "metadata": {},
     "output_type": "execute_result"
    }
   ],
   "source": [
    "evaluator.plot_sources(sa_sources, arrow_scale = 1)"
   ]
  },
  {
   "cell_type": "code",
   "execution_count": null,
   "id": "8ef60f98",
   "metadata": {},
   "outputs": [],
   "source": []
  }
 ],
 "metadata": {
  "kernelspec": {
   "display_name": "sqdmetal_sf",
   "language": "python",
   "name": "python3"
  },
  "language_info": {
   "codemirror_mode": {
    "name": "ipython",
    "version": 3
   },
   "file_extension": ".py",
   "mimetype": "text/x-python",
   "name": "python",
   "nbconvert_exporter": "python",
   "pygments_lexer": "ipython3",
   "version": "3.11.3"
  }
 },
 "nbformat": 4,
 "nbformat_minor": 5
}
