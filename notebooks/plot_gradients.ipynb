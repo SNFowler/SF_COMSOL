{
 "cells": [
  {
   "cell_type": "code",
   "execution_count": null,
   "id": "0417ef6c",
   "metadata": {},
   "outputs": [
    {
     "name": "stdout",
     "output_type": "stream",
     "text": [
      "The autoreload extension is already loaded. To reload it, use:\n",
      "  %reload_ext autoreload\n",
      "Commencing experiment: experiments/exp_20251015_202152\n",
      "225\n",
      "{'params': [0.18, 0.24], 'loss': -5.873163977453228e+18, 'grad': [2.9154472603905822e+20, 1.0468297419590616e+21], 'loss_jj': 0, 'loss_epr': -5.873163977453228e+18, 'grad_jj': 0, 'grad_epr': [2.9154472603905822e+20, 1.0468297419590616e+21]}\n"
     ]
    }
   ],
   "source": [
    "%load_ext autoreload\n",
    "%autoreload 2\n",
    "# CELL 1: Setup\n",
    "from adjoint_sim_sf import Experiment, Plotter\n",
    "\n",
    "exp = Experiment(name=\"exp_20251015_202152\", verbose=True)\n",
    "\n",
    "\n",
    "rel_filename = \"sweep_pure_epr_200_20251015-2021-52.jsonl\"\n",
    "data = exp.load_jsonl(rel_filename, loss_key=\"loss_epr\", grad_key=\"grad_epr\")\n",
    "print(len(data[\"records\"]))\n",
    "print(data[\"records\"][0])\n",
    "\n",
    "# Compute numeric gradients\n",
    "grads = exp.compute_numeric_grads(\n",
    "    params_array=data[\"params_array\"],\n",
    "    loss_array=data[\"loss_array\"],\n",
    "    adj_grad_array=data[\"adj_grad_array\"],\n",
    ")\n",
    "\n",
    "# Contour + quiver plots (only if param_dim == 2). Saves PNG in the experiment dir.\n",
    "exp.plot_contours_if_2d(\n",
    "    data_dict=data,\n",
    "    grads_dict=grads,\n",
    "    max_to_show=50,                 # 0 = show all; else ~this many arrows\n",
    "    title_suffix=data[\"loss_key\"],  # e.g. \"loss_epr\"\n",
    "    save_name=None,                 # default: \"contours_numeric_vs_adjoint.png\"\n",
    ")\n",
    "\n",
    "# Magnitude comparison (+ summary stats). Saves PNG in the experiment dir.\n",
    "exp.plot_magnitude_comparison(\n",
    "    grads_dict=grads,\n",
    "    scale=0.02,                     # apply scaling to adjoint magnitudes for the plot\n",
    "    uselog=True,\n",
    "    title_suffix=data[\"loss_key\"],\n",
    "    save_name=None,                 # default: \"gradient_magnitude_comparison.png\"\n",
    ")"
   ]
  },
  {
   "cell_type": "code",
   "execution_count": 14,
   "id": "7e1f8e47",
   "metadata": {},
   "outputs": [
    {
     "name": "stdout",
     "output_type": "stream",
     "text": [
      "Computed 196 numerical gradients\n"
     ]
    }
   ],
   "source": [
    "# Compute numeric gradients\n",
    "grads = exp.compute_numeric_grads(\n",
    "    params_array=data[\"params_array\"],\n",
    "    loss_array=data[\"loss_array\"],\n",
    "    adj_grad_array=data[\"adj_grad_array\"],\n",
    ")\n",
    "\n"
   ]
  },
  {
   "cell_type": "code",
   "execution_count": 15,
   "id": "82b81083",
   "metadata": {},
   "outputs": [
    {
     "name": "stdout",
     "output_type": "stream",
     "text": [
      "Saved: experiments/exp_20251015_202152\\contours_numeric_vs_adjoint.png\n",
      "\n",
      "======================================================================\n",
      "SUMMARY STATISTICS\n",
      "======================================================================\n",
      "\n",
      "Correlation between gradient magnitudes: 0.4440\n",
      "\n",
      "Ratio statistics (Adjoint/Numeric):\n",
      "  Mean: 101.2239\n",
      "  Median: 38.0027\n",
      "  Std: 249.8422\n",
      "======================================================================\n",
      "Saved: experiments/exp_20251015_202152\\gradient_magnitude_comparison.png\n"
     ]
    },
    {
     "data": {
      "text/plain": [
       "(<Figure size 1000x800 with 1 Axes>,\n",
       " <Axes: title={'center': 'Gradient Magnitude Comparison (numeric vs adjoint) – loss_epr'}, xlabel='Numerical Gradient Magnitude', ylabel='Adjoint Gradient Magnitude'>)"
      ]
     },
     "execution_count": 15,
     "metadata": {},
     "output_type": "execute_result"
    }
   ],
   "source": [
    "\n",
    "# Contour + quiver plots (only if param_dim == 2). Saves PNG in the experiment dir.\n",
    "exp.plot_contours_if_2d(\n",
    "    data_dict=data,\n",
    "    grads_dict=grads,\n",
    "    max_to_show=50,                 # 0 = show all; else ~this many arrows\n",
    "    title_suffix=data[\"loss_key\"],  # e.g. \"loss_epr\"\n",
    "    save_name=None,                 # default: \"contours_numeric_vs_adjoint.png\"\n",
    ")\n",
    "\n",
    "# Magnitude comparison (+ summary stats). Saves PNG in the experiment dir.\n",
    "exp.plot_magnitude_comparison(\n",
    "    grads_dict=grads,\n",
    "    scale=0.02,                     # apply scaling to adjoint magnitudes for the plot\n",
    "    uselog=True,\n",
    "    title_suffix=data[\"loss_key\"],\n",
    "    save_name=None,                 # default: \"gradient_magnitude_comparison.png\"\n",
    ")"
   ]
  },
  {
   "cell_type": "code",
   "execution_count": null,
   "id": "a5e867b6",
   "metadata": {},
   "outputs": [],
   "source": []
  },
  {
   "cell_type": "code",
   "execution_count": null,
   "id": "8e0549d3",
   "metadata": {},
   "outputs": [],
   "source": []
  },
  {
   "cell_type": "code",
   "execution_count": null,
   "id": "89fe773f",
   "metadata": {},
   "outputs": [],
   "source": []
  }
 ],
 "metadata": {
  "kernelspec": {
   "display_name": "sqdmetal_sf",
   "language": "python",
   "name": "python3"
  },
  "language_info": {
   "codemirror_mode": {
    "name": "ipython",
    "version": 3
   },
   "file_extension": ".py",
   "mimetype": "text/x-python",
   "name": "python",
   "nbconvert_exporter": "python",
   "pygments_lexer": "ipython3",
   "version": "3.11.3"
  }
 },
 "nbformat": 4,
 "nbformat_minor": 5
}
