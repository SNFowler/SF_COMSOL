{
 "cells": [
  {
   "cell_type": "code",
   "execution_count": 3,
   "id": "0417ef6c",
   "metadata": {},
   "outputs": [
    {
     "name": "stdout",
     "output_type": "stream",
     "text": [
      "The autoreload extension is already loaded. To reload it, use:\n",
      "  %reload_ext autoreload\n",
      "Commencing experiment: experiments/exp_20251015_202152\n",
      "225\n",
      "dict_keys(['params', 'loss', 'grad', 'loss_jj', 'loss_epr', 'grad_jj', 'grad_epr'])\n"
     ]
    },
    {
     "ename": "TypeError",
     "evalue": "list indices must be integers or slices, not str",
     "output_type": "error",
     "traceback": [
      "\u001b[1;31m---------------------------------------------------------------------------\u001b[0m",
      "\u001b[1;31mTypeError\u001b[0m                                 Traceback (most recent call last)",
      "Cell \u001b[1;32mIn[3], line 16\u001b[0m\n\u001b[0;32m     12\u001b[0m \u001b[38;5;28mprint\u001b[39m(data[\u001b[38;5;241m0\u001b[39m]\u001b[38;5;241m.\u001b[39mkeys())\n\u001b[0;32m     14\u001b[0m \u001b[38;5;66;03m# Compute numeric gradients\u001b[39;00m\n\u001b[0;32m     15\u001b[0m grads \u001b[38;5;241m=\u001b[39m exp\u001b[38;5;241m.\u001b[39mcompute_numeric_grads(\n\u001b[1;32m---> 16\u001b[0m     params_array\u001b[38;5;241m=\u001b[39m\u001b[43mdata\u001b[49m\u001b[43m[\u001b[49m\u001b[38;5;124;43m\"\u001b[39;49m\u001b[38;5;124;43mparams_array\u001b[39;49m\u001b[38;5;124;43m\"\u001b[39;49m\u001b[43m]\u001b[49m,\n\u001b[0;32m     17\u001b[0m     loss_array\u001b[38;5;241m=\u001b[39mdata[\u001b[38;5;124m\"\u001b[39m\u001b[38;5;124mloss_array\u001b[39m\u001b[38;5;124m\"\u001b[39m],\n\u001b[0;32m     18\u001b[0m     adj_grad_array\u001b[38;5;241m=\u001b[39mdata[\u001b[38;5;124m\"\u001b[39m\u001b[38;5;124madj_grad_array\u001b[39m\u001b[38;5;124m\"\u001b[39m],\n\u001b[0;32m     19\u001b[0m )\n\u001b[0;32m     21\u001b[0m \u001b[38;5;66;03m# Contour + quiver plots (only if param_dim == 2). Saves PNG in the experiment dir.\u001b[39;00m\n\u001b[0;32m     22\u001b[0m exp\u001b[38;5;241m.\u001b[39mplot_contours_if_2d(\n\u001b[0;32m     23\u001b[0m     data_dict\u001b[38;5;241m=\u001b[39mdata,\n\u001b[0;32m     24\u001b[0m     grads_dict\u001b[38;5;241m=\u001b[39mgrads,\n\u001b[1;32m   (...)\u001b[0m\n\u001b[0;32m     27\u001b[0m     save_name\u001b[38;5;241m=\u001b[39m\u001b[38;5;28;01mNone\u001b[39;00m,                 \u001b[38;5;66;03m# default: \"contours_numeric_vs_adjoint.png\"\u001b[39;00m\n\u001b[0;32m     28\u001b[0m )\n",
      "\u001b[1;31mTypeError\u001b[0m: list indices must be integers or slices, not str"
     ]
    }
   ],
   "source": [
    "%load_ext autoreload\n",
    "%autoreload 2\n",
    "# CELL 1: Setup\n",
    "from adjoint_sim_sf import Experiment, Plotter\n",
    "\n",
    "exp = Experiment(name=\"exp_20251015_202152\", verbose=True)\n",
    "\n",
    "\n",
    "rel_filename = \"sweep_pure_epr_200_20251015-2021-52.jsonl\"\n",
    "data = exp.load_jsonl(rel_filename)\n",
    "print(len(data))\n",
    "print(data[0].keys())\n",
    "\n",
    "# Compute numeric gradients\n",
    "grads = exp.compute_numeric_grads(\n",
    "    params_array=data[\"params_array\"],\n",
    "    loss_array=data[\"loss_array\"],\n",
    "    adj_grad_array=data[\"adj_grad_array\"],\n",
    ")\n",
    "\n",
    "# Contour + quiver plots (only if param_dim == 2). Saves PNG in the experiment dir.\n",
    "exp.plot_contours_if_2d(\n",
    "    data_dict=data,\n",
    "    grads_dict=grads,\n",
    "    max_to_show=50,                 # 0 = show all; else ~this many arrows\n",
    "    title_suffix=data[\"loss_key\"],  # e.g. \"loss_epr\"\n",
    "    save_name=None,                 # default: \"contours_numeric_vs_adjoint.png\"\n",
    ")\n",
    "\n",
    "# Magnitude comparison (+ summary stats). Saves PNG in the experiment dir.\n",
    "exp.plot_magnitude_comparison(\n",
    "    grads_dict=grads,\n",
    "    scale=0.02,                     # apply scaling to adjoint magnitudes for the plot\n",
    "    uselog=True,\n",
    "    title_suffix=data[\"loss_key\"],\n",
    "    save_name=None,                 # default: \"gradient_magnitude_comparison.png\"\n",
    ")"
   ]
  },
  {
   "cell_type": "code",
   "execution_count": 14,
   "id": "7e1f8e47",
   "metadata": {},
   "outputs": [
    {
     "name": "stdout",
     "output_type": "stream",
     "text": [
      "Computed 196 numerical gradients\n"
     ]
    }
   ],
   "source": [
    "# Compute numeric gradients\n",
    "grads = exp.compute_numeric_grads(\n",
    "    params_array=data[\"params_array\"],\n",
    "    loss_array=data[\"loss_array\"],\n",
    "    adj_grad_array=data[\"adj_grad_array\"],\n",
    ")\n",
    "\n"
   ]
  },
  {
   "cell_type": "code",
   "execution_count": 15,
   "id": "82b81083",
   "metadata": {},
   "outputs": [
    {
     "name": "stdout",
     "output_type": "stream",
     "text": [
      "Saved: experiments/exp_20251015_202152\\contours_numeric_vs_adjoint.png\n",
      "\n",
      "======================================================================\n",
      "SUMMARY STATISTICS\n",
      "======================================================================\n",
      "\n",
      "Correlation between gradient magnitudes: 0.4440\n",
      "\n",
      "Ratio statistics (Adjoint/Numeric):\n",
      "  Mean: 101.2239\n",
      "  Median: 38.0027\n",
      "  Std: 249.8422\n",
      "======================================================================\n",
      "Saved: experiments/exp_20251015_202152\\gradient_magnitude_comparison.png\n"
     ]
    },
    {
     "data": {
      "text/plain": [
       "(<Figure size 1000x800 with 1 Axes>,\n",
       " <Axes: title={'center': 'Gradient Magnitude Comparison (numeric vs adjoint) – loss_epr'}, xlabel='Numerical Gradient Magnitude', ylabel='Adjoint Gradient Magnitude'>)"
      ]
     },
     "execution_count": 15,
     "metadata": {},
     "output_type": "execute_result"
    }
   ],
   "source": [
    "\n",
    "# Contour + quiver plots (only if param_dim == 2). Saves PNG in the experiment dir.\n",
    "exp.plot_contours_if_2d(\n",
    "    data_dict=data,\n",
    "    grads_dict=grads,\n",
    "    max_to_show=50,                 # 0 = show all; else ~this many arrows\n",
    "    title_suffix=data[\"loss_key\"],  # e.g. \"loss_epr\"\n",
    "    save_name=None,                 # default: \"contours_numeric_vs_adjoint.png\"\n",
    ")\n",
    "\n",
    "# Magnitude comparison (+ summary stats). Saves PNG in the experiment dir.\n",
    "exp.plot_magnitude_comparison(\n",
    "    grads_dict=grads,\n",
    "    scale=0.02,                     # apply scaling to adjoint magnitudes for the plot\n",
    "    uselog=True,\n",
    "    title_suffix=data[\"loss_key\"],\n",
    "    save_name=None,                 # default: \"gradient_magnitude_comparison.png\"\n",
    ")"
   ]
  },
  {
   "cell_type": "code",
   "execution_count": null,
   "id": "a5e867b6",
   "metadata": {},
   "outputs": [],
   "source": []
  },
  {
   "cell_type": "code",
   "execution_count": null,
   "id": "8e0549d3",
   "metadata": {},
   "outputs": [],
   "source": []
  },
  {
   "cell_type": "code",
   "execution_count": null,
   "id": "89fe773f",
   "metadata": {},
   "outputs": [],
   "source": []
  }
 ],
 "metadata": {
  "kernelspec": {
   "display_name": "sqdmetal_sf",
   "language": "python",
   "name": "python3"
  },
  "language_info": {
   "codemirror_mode": {
    "name": "ipython",
    "version": 3
   },
   "file_extension": ".py",
   "mimetype": "text/x-python",
   "name": "python",
   "nbconvert_exporter": "python",
   "pygments_lexer": "ipython3",
   "version": "3.11.3"
  }
 },
 "nbformat": 4,
 "nbformat_minor": 5
}
