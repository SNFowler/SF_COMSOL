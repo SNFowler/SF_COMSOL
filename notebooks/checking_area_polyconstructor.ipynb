{
 "cells": [
  {
   "cell_type": "code",
   "execution_count": 15,
   "id": "ee20a58a",
   "metadata": {},
   "outputs": [
    {
     "name": "stdout",
     "output_type": "stream",
     "text": [
      "The autoreload extension is already loaded. To reload it, use:\n",
      "  %reload_ext autoreload\n",
      "0.17561198314241452\n"
     ]
    }
   ],
   "source": [
    "%load_ext autoreload\n",
    "%autoreload 2\n",
    "\n",
    "from adjoint_sim_sf.ParametricDesign import SymmetricTransmonDesign, SymmetricTransmonBuilder\n",
    "from adjoint_sim_sf import AdjointEvaluator\n",
    "import numpy as np\n",
    "import matplotlib.pyplot as plt\n",
    "\n",
    "params = np.array([0.20,0.25])\n",
    "\n",
    "std = SymmetricTransmonDesign()\n",
    "std.get_interior_area(params)\n",
    "fig = std.show_polygons(params)\n",
    "\n",
    "fig.show()\n",
    "print(std.get_interior_area(params))"
   ]
  },
  {
   "cell_type": "code",
   "execution_count": null,
   "id": "5d3e37e6",
   "metadata": {},
   "outputs": [
    {
     "name": "stdout",
     "output_type": "stream",
     "text": [
      "jj: [Source(location=array([0.    , 0.    , 0.0001]), direction=array([0, 1, 0]), strength=None)]\n",
      "Saved  20251016-718896.mph\n",
      "Saved  20251016-794849.mph\n",
      "Params: [0.19 0.2 ],Loss: -71104908064794.33, ||grad||: 3.013131e+16, grad: [-2.13042409e+16 -2.13078717e+16]\n"
     ]
    },
    {
     "data": {
      "text/plain": [
       "(array([-2.13042409e+16, -2.13078717e+16]), -71104908064794.33)"
      ]
     },
     "execution_count": 23,
     "metadata": {},
     "output_type": "execute_result"
    }
   ],
   "source": [
    "\n",
    "import numpy as np\n",
    "from datetime import datetime\n",
    "\n",
    "from SQDMetal.COMSOL.Model import COMSOL_Model\n",
    "from adjoint_sim_sf.ParametricDesign import SymmetricTransmonDesign\n",
    "from adjoint_sim_sf.AdjointSolver import AdjointEvaluator\n",
    "from adjoint_sim_sf.Optimiser import Optimiser\n",
    "from adjoint_sim_sf import Experiment\n",
    "\n",
    "# 1) COMSOL engine\n",
    "if COMSOL_Model._engine is None:\n",
    "    COMSOL_Model.init_engine()\n",
    "\n",
    "# 2) Evaluator config (must match AdjointEvaluator.update_params / attributes)\n",
    "base_config = {\n",
    "    \"freq_value\": 8e9,\n",
    "    \"num_adj_sample_points\": 20,\n",
    "    \"param_perturbation\": [1e-5],\n",
    "    \"fwd_source_strength\": 1e-2,\n",
    "    \"adjoint_rotation\": float(np.pi / 2),\n",
    "}\n",
    "\n",
    "params = np.array([0.19, 0.20])\n",
    "designer  = SymmetricTransmonDesign()\n",
    "evaluator = AdjointEvaluator(designer, config=base_config)\n",
    "\n",
    "evaluator.evaluate(params, 0.01)\n",
    "\n"
   ]
  },
  {
   "cell_type": "code",
   "execution_count": 26,
   "id": "e79ccdc3",
   "metadata": {},
   "outputs": [
    {
     "data": {
      "text/plain": [
       "0.1339572240871911"
      ]
     },
     "execution_count": 26,
     "metadata": {},
     "output_type": "execute_result"
    }
   ],
   "source": [
    "evaluator.parametric_designer.get_interior_area(params)"
   ]
  },
  {
   "cell_type": "code",
   "execution_count": 29,
   "id": "5f33379f",
   "metadata": {},
   "outputs": [
    {
     "name": "stdout",
     "output_type": "stream",
     "text": [
      "Per-pad areas (mm²): [0.06697861204359555, 0.06697861204359555]\n",
      "Per-pad areas (m²):  [6.697861204359554e-08, 6.697861204359554e-08]\n",
      "Total area (mm²):    0.1339572240871911\n",
      "Total area (m²):     1.339572240871911e-07\n"
     ]
    }
   ],
   "source": [
    "from shapely.geometry import MultiPolygon, Polygon\n",
    "import numpy as np\n",
    "from adjoint_sim_sf.ParametricDesign import  SymmetricTransmonPolygonConstructor\n",
    "\n",
    "mp = SymmetricTransmonPolygonConstructor().make_polygons(params)\n",
    "\n",
    "# Per-polygon areas (mm²) and in m²\n",
    "areas_mm2 = [p.area for p in (mp.geoms if isinstance(mp, MultiPolygon) else [mp])]\n",
    "areas_m2  = [a * 1e-6 for a in areas_mm2]\n",
    "total_mm2 = sum(areas_mm2)\n",
    "total_m2  = total_mm2 * 1e-6\n",
    "\n",
    "print(\"Per-pad areas (mm²):\", areas_mm2)\n",
    "print(\"Per-pad areas (m²): \", areas_m2)\n",
    "print(\"Total area (mm²):   \", total_mm2)\n",
    "print(\"Total area (m²):    \", total_m2)\n",
    "\n",
    "# Sanity checks\n",
    "assert np.isclose(total_mm2, mp.area)                  # MultiPolygon sums its parts\n",
    "assert np.isclose(total_m2, mp.area * 1e-6)            # mm² → m²\n"
   ]
  }
 ],
 "metadata": {
  "kernelspec": {
   "display_name": "sqdmetal_sf",
   "language": "python",
   "name": "python3"
  },
  "language_info": {
   "codemirror_mode": {
    "name": "ipython",
    "version": 3
   },
   "file_extension": ".py",
   "mimetype": "text/x-python",
   "name": "python",
   "nbconvert_exporter": "python",
   "pygments_lexer": "ipython3",
   "version": "3.11.3"
  }
 },
 "nbformat": 4,
 "nbformat_minor": 5
}
