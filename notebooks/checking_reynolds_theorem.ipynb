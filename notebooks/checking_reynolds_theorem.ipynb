{
 "cells": [
  {
   "cell_type": "markdown",
   "id": "2cd47397",
   "metadata": {},
   "source": [
    "The SA and MA EPR involves an integral over a region where E(\\theta) but also the region we're integrating over also depends on \\theta.\n",
    "\n",
    "This means the derivative of this integral is not simply the integral of the derivative, but instead we must use a multidimensional analogue of the Liebniz Rule (https://en.wikipedia.org/wiki/Leibniz_integral_rule) known as the Reynolds Transport Theorem.\n",
    "\n",
    "\\begin{align}\n",
    "\\frac{d\\mathcal{L}}{d\\theta} &= \\frac{\\partial \\mathcal{L}}{\\partial f} \\frac{df}{d\\theta} + \\frac{\\partial \\mathcal{L}}{\\partial \\Omega} \\frac{d\\Omega}{d\\theta} \\\\\n",
    " &= \\int_{\\Omega(\\theta)} \\frac{d}{d\\theta} f(\\mathbf{r}, \\theta) d\\mathbf{r} + \\int_{\\partial\\Omega} v(r)f(\\mathbf{r}, \\theta) d\\mathbf{r}. \\label\n",
    "\\end{align}"
   ]
  },
  {
   "cell_type": "code",
   "execution_count": 6,
   "id": "5e36f02e",
   "metadata": {},
   "outputs": [
    {
     "name": "stdout",
     "output_type": "stream",
     "text": [
      "{'mode': 'translate', 'theta': 0.2, 'fd': 2.376580212605006, 'pred': 2.3766222917196695, 'abs_err': 4.207911466336256e-05}\n",
      "{'mode': 'translate', 'theta': 0.7, 'fd': -3.2140740725831174, 'pred': -3.214080595480241, 'abs_err': 6.522897123772964e-06}\n",
      "{'mode': 'translate', 'theta': -0.4, 'fd': -0.09959610822740661, 'pred': -0.0995783485724766, 'abs_err': 1.7759654930005198e-05}\n",
      "{'mode': 'dilate', 'theta': 0.2, 'fd': 1.563893096194896, 'pred': 1.5726818240624953, 'abs_err': 0.008788727867599322}\n",
      "{'mode': 'dilate', 'theta': 0.7, 'fd': -2.5573159615828454, 'pred': -2.5593409402212375, 'abs_err': 0.0020249786383921276}\n",
      "{'mode': 'dilate', 'theta': -0.4, 'fd': -0.11761048091835091, 'pred': -0.11684420401159183, 'abs_err': 0.0007662769067590808}\n"
     ]
    }
   ],
   "source": [
    "import numpy as np\n",
    "\n",
    "mesh_spacing = 0.001   # master knob: grid spacing for area integral\n",
    "d_theta      = 1e-3   # step for finite-difference check\n",
    "\n",
    "# field and theta-derivative\n",
    "def f(x,y,t):  return np.sin(x+t)*np.cos(y-2*t)\n",
    "def dft(x,y,t): return np.cos(x+t)*np.cos(y-2*t) + 2*np.sin(x+t)*np.sin(y-2*t)\n",
    "\n",
    "def area_int(g, theta, cx, cy, R):\n",
    "    m = mesh_spacing\n",
    "    xmin, xmax = cx - R - m, cx + R + m\n",
    "    ymin, ymax = cy - R - m, cy + R + m\n",
    "    xs = np.arange(xmin, xmax + m, m); ys = np.arange(ymin, ymax + m, m)\n",
    "    xx, yy = np.meshgrid(xs, ys)\n",
    "    mask = ((xx-cx)**2 + (yy-cy)**2 <= R**2)\n",
    "    return np.sum(g(xx,yy,theta)[mask]) * (m*m)\n",
    "\n",
    "def bnd_int(theta, cx, cy, R, vn):\n",
    "    # sample roughly one point per mesh cell along the circumference\n",
    "    k = max(64, int(np.ceil(2*np.pi*R / mesh_spacing)))\n",
    "    phi = np.linspace(0, 2*np.pi, k, endpoint=False)\n",
    "    xb, yb = cx + R*np.cos(phi), cy + R*np.sin(phi)\n",
    "    ds = (2*np.pi*R) / k\n",
    "    return np.sum(vn(phi) * f(xb,yb,theta)) * ds\n",
    "\n",
    "def L(theta, mode, R0=0.8, beta=0.25):\n",
    "    if mode == \"translate\":\n",
    "        cx, cy, R = theta, 0.0, R0\n",
    "    else:  # dilate\n",
    "        cx, cy, R = 0.0, 0.0, R0 + beta*theta\n",
    "    return area_int(f, theta, cx, cy, R)\n",
    "\n",
    "def dL_pred(theta, mode, R0=0.8, beta=0.25):\n",
    "    if mode == \"translate\":\n",
    "        cx, cy, R = theta, 0.0, R0\n",
    "        vn = lambda phi: np.cos(phi)        # v·n for x-translation\n",
    "    else:  # dilate\n",
    "        cx, cy, R = 0.0, 0.0, R0 + beta*theta\n",
    "        vn = lambda phi: beta + 0*phi       # v·n for uniform radial speed\n",
    "    A = area_int(dft, theta, cx, cy, R)\n",
    "    B = bnd_int(theta, cx, cy, R, vn)\n",
    "    return A + B\n",
    "\n",
    "def check(theta, mode):\n",
    "    h = d_theta\n",
    "    fd   = (L(theta+h, mode) - L(theta-h, mode)) / (2*h)\n",
    "    pred = dL_pred(theta, mode)\n",
    "    return {\"mode\": mode, \"theta\": theta, \"fd\": fd, \"pred\": pred, \"abs_err\": abs(fd - pred)}\n",
    "\n",
    "for mode in [\"translate\", \"dilate\"]:\n",
    "    for t in [0.2, 0.7, -0.4]:\n",
    "        print(check(t, mode))\n"
   ]
  },
  {
   "cell_type": "code",
   "execution_count": null,
   "id": "32a245e2",
   "metadata": {},
   "outputs": [],
   "source": []
  }
 ],
 "metadata": {
  "kernelspec": {
   "display_name": "sqdmetal_sf",
   "language": "python",
   "name": "python3"
  },
  "language_info": {
   "codemirror_mode": {
    "name": "ipython",
    "version": 3
   },
   "file_extension": ".py",
   "mimetype": "text/x-python",
   "name": "python",
   "nbconvert_exporter": "python",
   "pygments_lexer": "ipython3",
   "version": "3.11.3"
  }
 },
 "nbformat": 4,
 "nbformat_minor": 5
}
