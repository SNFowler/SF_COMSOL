{
 "cells": [
  {
   "cell_type": "code",
   "execution_count": 1,
   "metadata": {},
   "outputs": [],
   "source": [
    "%load_ext autoreload\n",
    "%autoreload 2\n",
    "import os\n",
    "os.environ[\"KMP_DUPLICATE_LIB_OK\"]=\"TRUE\"\n",
    "os.environ[\"PMIX_MCA_gds\"]=\"hash\"\n",
    "\n",
    "# Import useful packages\n",
    "import qiskit_metal as metal"
   ]
  },
  {
   "cell_type": "code",
   "execution_count": 2,
   "metadata": {},
   "outputs": [],
   "source": [
    "from qiskit_metal import designs, draw\n",
    "from qiskit_metal import MetalGUI, Dict, open_docs\n",
    "\n",
    "# To create plots after geting solution data.\n",
    "import matplotlib.pyplot as plt\n",
    "import numpy as np\n",
    "\n",
    "# Packages for the simple design\n",
    "from SQDMetal.Comps.Junctions import JunctionDolan\n",
    "import shapely\n",
    "from SQDMetal.Comps.Polygons import PolyShapely, PolyRectangle\n",
    "from SQDMetal.Comps.Joints import Joint\n",
    "\n",
    "\n",
    "# Set up chip design as planar, multiplanar also available\n",
    "design = designs.DesignPlanar({}, overwrite_enabled=True)\n",
    "\n",
    "# Set up chip dimensions \n",
    "design.chips.main.size.size_x = '800um'\n",
    "design.chips.main.size.size_y = '800um'\n",
    "design.chips.main.size.size_z = '500um'\n",
    "design.chips.main.size.center_x = '0mm'\n",
    "design.chips.main.size.center_y = '0mm'\n",
    "\n",
    "JunctionDolan(design, 'junction', options=Dict(pos_x=0, pos_y='-12um', end_x=0, end_y='12um',\n",
    "                                                         layer=2,\n",
    "                                                         finger_width='0.4um', t_pad_size='0.385um',\n",
    "                                                         squid_width='5.4um', prong_width='0.9um'));\n",
    "\n",
    "#Units in mm...\n",
    "padCoordNums = [0.19971691, 0.02, 0.17926553, 0.25, 0.25]\n",
    "padCoords = [[-0.05, 0.012], [0.05, 0.012], [padCoordNums[0], padCoordNums[1]], [padCoordNums[2], padCoordNums[3]], [0, padCoordNums[4]], [-padCoordNums[2], padCoordNums[3]], [-padCoordNums[0], padCoordNums[1]]]\n",
    "padCoords2 = [[x[0],-x[1]] for x in padCoords][::-1]\n",
    "\n",
    "poly1 = shapely.Polygon(padCoords).buffer(-0.04, join_style=1, quad_segs=4).buffer(0.04, join_style=1, quad_segs=4)\n",
    "poly2 = shapely.Polygon(padCoords2).buffer(-0.04, join_style=1, quad_segs=4).buffer(0.04, join_style=1, quad_segs=4)\n",
    "\n",
    "PolyShapely(design, 'pad1', options=dict(strShapely=poly1.__str__()))\n",
    "PolyShapely(design, 'pad2', options=dict(strShapely=poly2.__str__()))\n",
    "\n",
    "PolyRectangle(design, 'rectGnd', options=dict(pos_x='-300um',pos_y='-300um', end_x='300um',end_y='300um', is_ground_cutout=True))\n",
    "\n",
    "Joint(design, 'j1', options=dict(pos_x='0um', pos_y='-300um'))\n",
    "Joint(design, 'j2', options=dict(pos_x='0um', pos_y='300um'));\n",
    "\n",
    "# rebuild the GUI\n",
    "# gui = MetalGUI(design)\n",
    "# gui.rebuild()"
   ]
  },
  {
   "cell_type": "code",
   "execution_count": 3,
   "metadata": {},
   "outputs": [
    {
     "data": {
      "text/plain": [
       "True"
      ]
     },
     "execution_count": 3,
     "metadata": {},
     "output_type": "execute_result"
    }
   ],
   "source": [
    "import shapely\n",
    "\n",
    "poly1.contains(shapely.Point(0,50e-3))"
   ]
  },
  {
   "cell_type": "markdown",
   "metadata": {},
   "source": [
    "Eigenfrequency at 8.0333GHz"
   ]
  },
  {
   "cell_type": "code",
   "execution_count": 4,
   "metadata": {},
   "outputs": [],
   "source": [
    "from SQDMetal.COMSOL.Model import COMSOL_Model\n",
    "from SQDMetal.COMSOL.SimCapacitance import COMSOL_Simulation_CapMats\n",
    "from SQDMetal.COMSOL.SimRFsParameter import COMSOL_Simulation_RFsParameters\n",
    "\n",
    "from SQDMetal.Utilities.ShapelyEx import ShapelyEx\n",
    "\n",
    "\n",
    "#Initialise the COMSOL engine (needs to only be run once)\n",
    "COMSOL_Model.init_engine()\n",
    "\n",
    "#Instantiate a COMSOL model\n",
    "cmsl = COMSOL_Model('leModel')\n",
    "\n",
    "#Create simulations to setup - in this case capacitance matrix and RF s-parameter\n",
    "sim_sParams = COMSOL_Simulation_RFsParameters(cmsl, adaptive='None')\n",
    "\n",
    "#(A) - Initialise model from Qiskit-Metal design object: design\n",
    "cmsl.initialize_model(design, [sim_sParams], bottom_grounded=True)\n",
    "\n",
    "cmsl.add_metallic(1, threshold=1e-12, fuse_threshold=1e-10)\n",
    "cmsl.add_ground_plane()\n",
    "cmsl.fuse_all_metals()\n",
    "\n",
    "sim_sParams.create_port_JosephsonJunction('junction', L_J=4.3e-9, C_J=10e-15)\n",
    "\n",
    "# sim_sParams.add_surface_current_source_region(\"dielectric\", 0.5)\n",
    "# sim_sParams.add_surface_current_source_region(\"metals\", 10e-6, 2)\n",
    "\n",
    "# edp_pts = ShapelyEx.get_points_uniform_in_polygon(poly1, 0.01,0.01)\n",
    "# for cur_pt in edp_pts:\n",
    "#     x, y = cur_pt[0]*0.001, cur_pt[1]*0.001 #Converting from mm to m\n",
    "#     sim_sParams.add_electric_point_dipole([x,y, 1e-6], 1, [0,0,1])\n",
    "\n",
    "cmsl.build_geom_mater_elec_mesh(skip_meshing=True, mesh_structure='Fine')\n",
    "\n",
    "sim_sParams.set_freq_values([8.118e9])\n",
    "cmsl.plot()\n",
    "\n",
    "\n",
    "cmsl.save('TestPts')"
   ]
  },
  {
   "cell_type": "markdown",
   "metadata": {},
   "source": [
    "So use 8.033GHz, offset the geometry and excite/measure along y-axis. The excitation is 10um above the JJ..."
   ]
  },
  {
   "cell_type": "code",
   "execution_count": null,
   "metadata": {},
   "outputs": [],
   "source": [
    "from SQDMetal.COMSOL.Model import COMSOL_Model\n",
    "from SQDMetal.COMSOL.SimCapacitance import COMSOL_Simulation_CapMats\n",
    "from SQDMetal.COMSOL.SimRFsParameter import COMSOL_Simulation_RFsParameters\n",
    "\n",
    "from SQDMetal.Utilities.ShapelyEx import ShapelyEx\n",
    "\n",
    "\n",
    "#Initialise the COMSOL engine (needs to only be run once)\n",
    "COMSOL_Model.init_engine()\n",
    "\n",
    "results = []\n",
    "offset_vals = np.linspace(-0.05,0.05,21)\n",
    "for val in (offset_vals+0.19971691):\n",
    "    padCoordNums = [val, 0.02, 0.17926553, 0.25, 0.25]\n",
    "    padCoords = [[-0.05, 0.012], [0.05, 0.012], [padCoordNums[0], padCoordNums[1]], [padCoordNums[2], padCoordNums[3]], [0, padCoordNums[4]], [-padCoordNums[2], padCoordNums[3]], [-padCoordNums[0], padCoordNums[1]]]\n",
    "    padCoords2 = [[x[0],-x[1]] for x in padCoords][::-1]\n",
    "\n",
    "    poly1 = shapely.Polygon(padCoords).buffer(-0.04, join_style=1, quad_segs=4).buffer(0.04, join_style=1, quad_segs=4)\n",
    "    poly2 = shapely.Polygon(padCoords2).buffer(-0.04, join_style=1, quad_segs=4).buffer(0.04, join_style=1, quad_segs=4)\n",
    "\n",
    "    PolyShapely(design, 'pad1', options=dict(strShapely=poly1.__str__()))\n",
    "    PolyShapely(design, 'pad2', options=dict(strShapely=poly2.__str__()))\n",
    "\n",
    "    design.rebuild()\n",
    "\n",
    "    #Instantiate a COMSOL model\n",
    "    cmsl = COMSOL_Model('leModel')\n",
    "\n",
    "    #Create simulations to setup - in this case capacitance matrix and RF s-parameter\n",
    "    sim_sParams = COMSOL_Simulation_RFsParameters(cmsl, adaptive='None')\n",
    "\n",
    "    #(A) - Initialise model from Qiskit-Metal design object: design\n",
    "    cmsl.initialize_model(design, [sim_sParams], bottom_grounded=True)\n",
    "\n",
    "    cmsl.add_metallic(1, threshold=1e-12, fuse_threshold=1e-10)\n",
    "    cmsl.add_ground_plane()\n",
    "    cmsl.fuse_all_metals()\n",
    "\n",
    "    sim_sParams.create_port_JosephsonJunction('junction', L_J=4.3e-9, C_J=10e-15, R_J=10e3)\n",
    "\n",
    "    # sim_sParams.add_surface_current_source_region(\"dielectric\", 0.5)\n",
    "    # sim_sParams.add_surface_current_source_region(\"metals\", 10e-6, 2)\n",
    "\n",
    "    # edp_pts = ShapelyEx.get_points_uniform_in_polygon(poly1, 0.01,0.01)\n",
    "    # for cur_pt in edp_pts:\n",
    "    #     x, y = cur_pt[0]*0.001, cur_pt[1]*0.001 #Converting from mm to m\n",
    "    #     sim_sParams.add_electric_point_dipole([x,y, 1e-6], 1, [0,0,1])\n",
    "\n",
    "    sim_sParams.add_electric_point_dipole([0,0, 100e-6], 1, [0,1,0])\n",
    "    # sim_sParams.add_electric_point_dipole([0,0,0], 0, [0,1,0])\n",
    "\n",
    "    cmsl.fine_mesh_around_comp_boundaries(['pad1', 'pad2'], minElementSize=10e-6, maxElementSize=50e-6)\n",
    "\n",
    "    cmsl.build_geom_mater_elec_mesh(skip_meshing=True, mesh_structure='Fine')\n",
    "\n",
    "    sim_sParams.set_freq_values([8.0333e9])\n",
    "    #cmsl.plot()\n",
    "    sim_sParams.run()\n",
    "    results.append(sim_sParams.eval_field_at_pts('E', np.array([[0,0,0]])))\n",
    "    # cmsl.save('TestPts')\n",
    "results = np.array(results)[:,0,:]"
   ]
  },
  {
   "cell_type": "code",
   "execution_count": null,
   "metadata": {},
   "outputs": [
    {
     "data": {
      "text/plain": [
       "[<matplotlib.lines.Line2D at 0x1c6f31e4350>]"
      ]
     },
     "execution_count": 6,
     "metadata": {},
     "output_type": "execute_result"
    }
   ],
   "source": [
    "%matplotlib inline\n",
    "\n",
    "import matplotlib.pyplot as plt\n",
    "\n",
    "# plt.plot(offset_vals, np.abs(results[:,0]), 'x-')\n",
    "plt.plot(offset_vals, np.abs(results[:,1]), 'x-')"
   ]
  },
  {
   "cell_type": "markdown",
   "metadata": {},
   "source": [
    "Okay let's try an adjoint simulation"
   ]
  },
  {
   "cell_type": "code",
   "execution_count": null,
   "metadata": {},
   "outputs": [
    {
     "ename": "NameError",
     "evalue": "name 'coords' is not defined",
     "output_type": "error",
     "traceback": [
      "\u001b[1;31m---------------------------------------------------------------------------\u001b[0m",
      "\u001b[1;31mNameError\u001b[0m                                 Traceback (most recent call last)",
      "Cell \u001b[1;32mIn[7], line 75\u001b[0m\n\u001b[0;32m     72\u001b[0m     sim_sParams\u001b[38;5;241m.\u001b[39mrun()\n\u001b[0;32m     73\u001b[0m     \u001b[38;5;66;03m# COMSOL_Model.close_all_models()\u001b[39;00m\n\u001b[0;32m     74\u001b[0m     \u001b[38;5;66;03m#\u001b[39;00m\n\u001b[1;32m---> 75\u001b[0m     \u001b[38;5;28mprint\u001b[39m(\u001b[38;5;28mprint\u001b[39m(\u001b[38;5;28mtype\u001b[39m(\u001b[43mcoords\u001b[49m), coords\u001b[38;5;241m.\u001b[39mshape, coords\u001b[38;5;241m.\u001b[39mdtype))\n\u001b[0;32m     76\u001b[0m     adjoint_field_data\u001b[38;5;241m.\u001b[39mappend(sim_sParams\u001b[38;5;241m.\u001b[39meval_field_at_pts(\u001b[38;5;124m'\u001b[39m\u001b[38;5;124mE\u001b[39m\u001b[38;5;124m'\u001b[39m, raw_field_data[\u001b[38;5;241m-\u001b[39m\u001b[38;5;241m1\u001b[39m][\u001b[38;5;124m'\u001b[39m\u001b[38;5;124mcoords\u001b[39m\u001b[38;5;124m'\u001b[39m]))\n\u001b[0;32m     78\u001b[0m raw_field_at_JJ \u001b[38;5;241m=\u001b[39m np\u001b[38;5;241m.\u001b[39marray(raw_field_at_JJ)[:,\u001b[38;5;241m0\u001b[39m,:]\n",
      "\u001b[1;31mNameError\u001b[0m: name 'coords' is not defined"
     ]
    },
    {
     "ename": "",
     "evalue": "",
     "output_type": "error",
     "traceback": [
      "\u001b[1;31mThe Kernel crashed while executing code in the current cell or a previous cell. \n",
      "\u001b[1;31mPlease review the code in the cell(s) to identify a possible cause of the failure. \n",
      "\u001b[1;31mClick <a href='https://aka.ms/vscodeJupyterKernelCrash'>here</a> for more info. \n",
      "\u001b[1;31mView Jupyter <a href='command:jupyter.viewOutput'>log</a> for further details."
     ]
    }
   ],
   "source": [
    "from SQDMetal.COMSOL.Model import COMSOL_Model\n",
    "from SQDMetal.COMSOL.SimCapacitance import COMSOL_Simulation_CapMats\n",
    "from SQDMetal.COMSOL.SimRFsParameter import COMSOL_Simulation_RFsParameters\n",
    "\n",
    "from SQDMetal.Utilities.ShapelyEx import ShapelyEx\n",
    "\n",
    "\n",
    "#Initialise the COMSOL engine (needs to only be run once)\n",
    "COMSOL_Model.init_engine()\n",
    "\n",
    "def gen_geom(val):\n",
    "    padCoordNums = [val, 0.02, 0.17926553, 0.25, 0.25]\n",
    "    padCoords = [[-0.05, 0.012], [0.05, 0.012], [padCoordNums[0], padCoordNums[1]], [padCoordNums[2], padCoordNums[3]], [0, padCoordNums[4]], [-padCoordNums[2], padCoordNums[3]], [-padCoordNums[0], padCoordNums[1]]]\n",
    "    padCoords2 = [[x[0],-x[1]] for x in padCoords][::-1]\n",
    "\n",
    "    poly1 = shapely.Polygon(padCoords).buffer(-0.04, join_style=1, quad_segs=4).buffer(0.04, join_style=1, quad_segs=4)\n",
    "    poly2 = shapely.Polygon(padCoords2).buffer(-0.04, join_style=1, quad_segs=4).buffer(0.04, join_style=1, quad_segs=4)\n",
    "\n",
    "    return poly1, poly2\n",
    "\n",
    "raw_field_at_JJ = []\n",
    "raw_field_data = []\n",
    "adjoint_field_data = []\n",
    "poly_grads = []\n",
    "offset_vals = np.linspace(-0.05,0.05,21)\n",
    "for val in (offset_vals+0.19971691):\n",
    "    poly1, poly2 = gen_geom(val)\n",
    "    poly_orig = shapely.MultiPolygon([poly1,poly2])\n",
    "\n",
    "    PolyShapely(design, 'pad1', options=dict(strShapely=poly1.__str__()))\n",
    "    PolyShapely(design, 'pad2', options=dict(strShapely=poly2.__str__()))\n",
    "\n",
    "    design.rebuild()\n",
    "\n",
    "    #Instantiate a COMSOL model\n",
    "    cmsl = COMSOL_Model('leModel')\n",
    "    sim_sParams = COMSOL_Simulation_RFsParameters(cmsl, adaptive='None')\n",
    "    cmsl.initialize_model(design, [sim_sParams], bottom_grounded=True)\n",
    "    cmsl.add_metallic(1, threshold=1e-12, fuse_threshold=1e-10)\n",
    "    cmsl.add_ground_plane()\n",
    "    cmsl.fuse_all_metals()\n",
    "    sim_sParams.create_port_JosephsonJunction('junction', L_J=4.3e-9, C_J=10e-15, R_J=10e3)\n",
    "    sim_sParams.add_electric_point_dipole([0,0, 100e-6], 1, [0,1,0])\n",
    "    cmsl.fine_mesh_around_comp_boundaries(['pad1', 'pad2'], minElementSize=10e-6, maxElementSize=50e-6)\n",
    "    cmsl.build_geom_mater_elec_mesh(skip_meshing=True, mesh_structure='Fine')\n",
    "    sim_sParams.set_freq_values([8.0333e9])\n",
    "    sim_sParams.run()\n",
    "    \n",
    "    raw_field_data.append(sim_sParams.eval_fields_over_mesh())\n",
    "    raw_field_at_JJ.append(sim_sParams.eval_field_at_pts('E', np.array([[0,0,0]])))\n",
    "\n",
    "    #Run Adjoint simulation (this is a really bad way to calculate gradients...)\n",
    "    poly1, poly2 = gen_geom(val+0.001)\n",
    "    poly_new = shapely.MultiPolygon([poly1,poly2])\n",
    "    poly_grad = shapely.difference(poly_new, poly_orig)\n",
    "    #print(type(poly_grad))\n",
    "    poly_grads.append(poly_grad)\n",
    "    #\n",
    "    adjoint_strength = 2*np.real(raw_field_at_JJ[-1][0,1])/(2*np.pi*8.0333e9*1.256637e-6)\n",
    "    #\n",
    "    cmsl = COMSOL_Model('leModel')\n",
    "    sim_sParams = COMSOL_Simulation_RFsParameters(cmsl, adaptive='None')\n",
    "    cmsl.initialize_model(design, [sim_sParams], bottom_grounded=True)\n",
    "    cmsl.add_metallic(1, threshold=1e-12, fuse_threshold=1e-10)\n",
    "    cmsl.add_ground_plane()\n",
    "    cmsl.fuse_all_metals()\n",
    "    sim_sParams.create_port_JosephsonJunction('junction', L_J=4.3e-9, C_J=10e-15, R_J=10e3)\n",
    "    sim_sParams.add_electric_point_dipole([0,0, 1e-6], adjoint_strength, [0,1,0])\n",
    "    cmsl.fine_mesh_around_comp_boundaries(['pad1', 'pad2'], minElementSize=10e-6, maxElementSize=50e-6)\n",
    "    cmsl.build_geom_mater_elec_mesh(skip_meshing=True, mesh_structure='Fine')\n",
    "    sim_sParams.set_freq_values([8.0333e9])\n",
    "    sim_sParams.run()\n",
    "    # COMSOL_Model.close_all_models()\n",
    "    #\n",
    "    print(print(type(coords), coords.shape, coords.dtype))\n",
    "    adjoint_field_data.append(sim_sParams.eval_field_at_pts('E', raw_field_data[-1]['coords']))\n",
    "\n",
    "raw_field_at_JJ = np.array(raw_field_at_JJ)[:,0,:]"
   ]
  },
  {
   "cell_type": "code",
   "execution_count": null,
   "metadata": {},
   "outputs": [],
   "source": [
    "def calc_grad(point, poly_grad):\n",
    "    point = np.real(point)\n",
    "    dist = np.sqrt( shapely.distance(shapely.Point([point[0],point[1]]), poly_grad)**2 + point[2]**2 )\n",
    "    return np.exp(-0.5*(dist/0.002)**2)\n",
    "\n",
    "dg = []\n",
    "for m,val in enumerate(offset_vals):\n",
    "    cur_init_field_data = raw_field_data[m]\n",
    "    \n",
    "    Ap_x = cur_init_field_data['E']\n",
    "    for mesh_coord in cur_init_field_data['coords']:\n",
    "        Ap_x[m] *= calc_grad(mesh_coord, poly_grads[m])\n",
    "    \n",
    "    v_Ap_x = np.dot(np.ndarray.flatten(adjoint_field_data[m]), np.ndarray.flatten(Ap_x))\n",
    "    dg.append(v_Ap_x)\n"
   ]
  },
  {
   "cell_type": "code",
   "execution_count": null,
   "metadata": {},
   "outputs": [
    {
     "data": {
      "text/plain": [
       "[<matplotlib.lines.Line2D at 0x267c66b98d0>]"
      ]
     },
     "execution_count": 8,
     "metadata": {},
     "output_type": "execute_result"
    },
    {
     "data": {
      "image/png": "[encoded data removed]",
      "text/plain": [
       "<Figure size 640x480 with 1 Axes>"
      ]
     },
     "metadata": {},
     "output_type": "display_data"
    }
   ],
   "source": [
    "plt.plot(offset_vals, np.abs(raw_field_at_JJ[:,1]), 'x-')"
   ]
  },
  {
   "cell_type": "code",
   "execution_count": null,
   "metadata": {},
   "outputs": [
    {
     "ename": "NameError",
     "evalue": "name 'np' is not defined",
     "output_type": "error",
     "traceback": [
      "\u001b[1;31m---------------------------------------------------------------------------\u001b[0m",
      "\u001b[1;31mNameError\u001b[0m                                 Traceback (most recent call last)",
      "Cell \u001b[1;32mIn[1], line 4\u001b[0m\n\u001b[0;32m      1\u001b[0m \u001b[38;5;28;01mimport\u001b[39;00m \u001b[38;5;21;01mmatplotlib\u001b[39;00m\u001b[38;5;21;01m.\u001b[39;00m\u001b[38;5;21;01mpyplot\u001b[39;00m \u001b[38;5;28;01mas\u001b[39;00m \u001b[38;5;21;01mplt\u001b[39;00m\n\u001b[0;32m      2\u001b[0m get_ipython()\u001b[38;5;241m.\u001b[39mrun_line_magic(\u001b[38;5;124m'\u001b[39m\u001b[38;5;124mmatplotlib\u001b[39m\u001b[38;5;124m'\u001b[39m, \u001b[38;5;124m'\u001b[39m\u001b[38;5;124minline\u001b[39m\u001b[38;5;124m'\u001b[39m)\n\u001b[1;32m----> 4\u001b[0m dg \u001b[38;5;241m=\u001b[39m \u001b[43mnp\u001b[49m\u001b[38;5;241m.\u001b[39marray(dg)\n\u001b[0;32m      6\u001b[0m plt\u001b[38;5;241m.\u001b[39mplot(offset_vals, np\u001b[38;5;241m.\u001b[39mreal(dg))\n\u001b[0;32m      7\u001b[0m plt\u001b[38;5;241m.\u001b[39mplot(offset_vals, np\u001b[38;5;241m.\u001b[39mimag(dg))\n",
      "\u001b[1;31mNameError\u001b[0m: name 'np' is not defined"
     ]
    }
   ],
   "source": [
    "import matplotlib.pyplot as plt\n",
    "%matplotlib inline\n",
    "\n",
    "dg = np.array(dg)\n",
    "\n",
    "plt.plot(offset_vals, np.real(dg))\n",
    "plt.plot(offset_vals, np.imag(dg))"
   ]
  },
  {
   "cell_type": "code",
   "execution_count": null,
   "metadata": {},
   "outputs": [
    {
     "data": {
      "text/plain": [
       "(46844, 3)"
      ]
     },
     "execution_count": 10,
     "metadata": {},
     "output_type": "execute_result"
    }
   ],
   "source": [
    "adjoint_field_data[-1].shape"
   ]
  },
  {
   "cell_type": "code",
   "execution_count": null,
   "metadata": {},
   "outputs": [],
   "source": []
  }
 ],
 "metadata": {
  "kernelspec": {
   "display_name": "sqdmetal_sf",
   "language": "python",
   "name": "python3"
  },
  "language_info": {
   "codemirror_mode": {
    "name": "ipython",
    "version": 3
   },
   "file_extension": ".py",
   "mimetype": "text/x-python",
   "name": "python",
   "nbconvert_exporter": "python",
   "pygments_lexer": "ipython3",
   "version": "3.11.3"
  }
 },
 "nbformat": 4,
 "nbformat_minor": 2
}
