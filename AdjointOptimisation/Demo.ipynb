{
 "cells": [
  {
   "cell_type": "code",
   "execution_count": 1,
   "metadata": {},
   "outputs": [],
   "source": [
    "%load_ext autoreload\n",
    "%autoreload 2\n",
    "import os\n",
    "os.environ[\"KMP_DUPLICATE_LIB_OK\"]=\"TRUE\"\n",
    "os.environ[\"PMIX_MCA_gds\"]=\"hash\"\n",
    "\n",
    "# Import useful packages\n",
    "import qiskit_metal as metal\n",
    "from qiskit_metal import designs, draw\n",
    "from qiskit_metal import MetalGUI, Dict, open_docs\n",
    "\n",
    "# To create plots after geting solution data.\n",
    "import matplotlib.pyplot as plt\n",
    "import numpy as np\n",
    "\n",
    "# Packages for the simple design\n",
    "from SQDMetal.Comps.Junctions import JunctionDolan\n",
    "import shapely\n",
    "from SQDMetal.Comps.Polygons import PolyShapely, PolyRectangle\n",
    "from SQDMetal.Comps.Joints import Joint\n",
    "\n",
    "\n",
    "# Set up chip design as planar, multiplanar also available\n",
    "design = designs.DesignPlanar({}, overwrite_enabled=True)\n",
    "\n",
    "# Set up chip dimensions \n",
    "design.chips.main.size.size_x = '800um'\n",
    "design.chips.main.size.size_y = '800um'\n",
    "design.chips.main.size.size_z = '500um'\n",
    "design.chips.main.size.center_x = '0mm'\n",
    "design.chips.main.size.center_y = '0mm'\n",
    "\n",
    "JunctionDolan(design, 'junction', options=Dict(pos_x=0, pos_y='-12um', end_x=0, end_y='12um',\n",
    "                                                         layer=2,\n",
    "                                                         finger_width='0.4um', t_pad_size='0.385um',\n",
    "                                                         squid_width='5.4um', prong_width='0.9um'));\n",
    "\n",
    "#Units in mm...\n",
    "padCoordNums = [0.19971691, 0.02, 0.17926553, 0.25, 0.25]\n",
    "padCoords = [[-0.05, 0.012], [0.05, 0.012], [padCoordNums[0], padCoordNums[1]], [padCoordNums[2], padCoordNums[3]], [0, padCoordNums[4]], [-padCoordNums[2], padCoordNums[3]], [-padCoordNums[0], padCoordNums[1]]]\n",
    "padCoords2 = [[x[0],-x[1]] for x in padCoords][::-1]\n",
    "\n",
    "poly1 = shapely.Polygon(padCoords).buffer(-0.04, join_style=1, quad_segs=4).buffer(0.04, join_style=1, quad_segs=4)\n",
    "poly2 = shapely.Polygon(padCoords2).buffer(-0.04, join_style=1, quad_segs=4).buffer(0.04, join_style=1, quad_segs=4)\n",
    "\n",
    "PolyShapely(design, 'pad1', options=dict(strShapely=poly1.__str__()))\n",
    "PolyShapely(design, 'pad2', options=dict(strShapely=poly2.__str__()))\n",
    "\n",
    "PolyRectangle(design, 'rectGnd', options=dict(pos_x='-300um',pos_y='-300um', end_x='300um',end_y='300um', is_ground_cutout=True))\n",
    "\n",
    "Joint(design, 'j1', options=dict(pos_x='0um', pos_y='-300um'))\n",
    "Joint(design, 'j2', options=dict(pos_x='0um', pos_y='300um'));\n",
    "\n",
    "# rebuild the GUI\n",
    "gui = MetalGUI(design)\n",
    "gui.rebuild()"
   ]
  },
  {
   "cell_type": "markdown",
   "metadata": {},
   "source": [
    "Eigenfrequency at 8.0333GHz"
   ]
  },
  {
   "cell_type": "code",
   "execution_count": 2,
   "metadata": {},
   "outputs": [],
   "source": [
    "from SQDMetal.COMSOL.Model import COMSOL_Model\n",
    "from SQDMetal.COMSOL.SimCapacitance import COMSOL_Simulation_CapMats\n",
    "from SQDMetal.COMSOL.SimRFsParameter import COMSOL_Simulation_RFsParameters\n",
    "\n",
    "from SQDMetal.Utilities.ShapelyEx import ShapelyEx\n",
    "\n",
    "\n",
    "#Initialise the COMSOL engine (needs to only be run once)\n",
    "COMSOL_Model.init_engine()\n",
    "\n",
    "#Instantiate a COMSOL model\n",
    "cmsl = COMSOL_Model('leModel')\n",
    "\n",
    "#Create simulations to setup - in this case capacitance matrix and RF s-parameter\n",
    "sim_sParams = COMSOL_Simulation_RFsParameters(cmsl, adaptive='None')\n",
    "\n",
    "#(A) - Initialise model from Qiskit-Metal design object: design\n",
    "cmsl.initialize_model(design, [sim_sParams], bottom_grounded=True)\n",
    "\n",
    "cmsl.add_metallic(1, threshold=1e-12, fuse_threshold=1e-10)\n",
    "cmsl.add_ground_plane()\n",
    "cmsl.fuse_all_metals()\n",
    "\n",
    "sim_sParams.create_port_JosephsonJunction('junction', L_J=4.3e-9, C_J=10e-15)\n",
    "\n",
    "# sim_sParams.add_surface_current_source_region(\"dielectric\", 0.5)\n",
    "# sim_sParams.add_surface_current_source_region(\"metals\", 10e-6, 2)\n",
    "\n",
    "# edp_pts = ShapelyEx.get_points_uniform_in_polygon(poly1, 0.01,0.01)\n",
    "# for cur_pt in edp_pts:\n",
    "#     x, y = cur_pt[0]*0.001, cur_pt[1]*0.001 #Converting from mm to m\n",
    "#     sim_sParams.add_electric_point_dipole([x,y, 1e-6], 1, [0,0,1])\n",
    "\n",
    "cmsl.build_geom_mater_elec_mesh(skip_meshing=True, mesh_structure='Fine')\n",
    "\n",
    "sim_sParams.set_freq_values([8.118e9])\n",
    "# cmsl.plot()\n",
    "\n",
    "\n",
    "cmsl.save('TestPts')"
   ]
  },
  {
   "cell_type": "markdown",
   "metadata": {},
   "source": [
    "So use 8.033GHz, offset the geometry and excite/measure along y-axis. The excitation is 10um above the JJ..."
   ]
  },
  {
   "cell_type": "code",
   "execution_count": 3,
   "metadata": {},
   "outputs": [],
   "source": [
    "from SQDMetal.COMSOL.Model import COMSOL_Model\n",
    "from SQDMetal.COMSOL.SimCapacitance import COMSOL_Simulation_CapMats\n",
    "from SQDMetal.COMSOL.SimRFsParameter import COMSOL_Simulation_RFsParameters\n",
    "\n",
    "from SQDMetal.Utilities.ShapelyEx import ShapelyEx\n",
    "\n",
    "\n",
    "#Initialise the COMSOL engine (needs to only be run once)\n",
    "COMSOL_Model.init_engine()\n",
    "\n",
    "results = []\n",
    "offset_vals = np.linspace(-0.005,0.005,21)\n",
    "for val in (offset_vals+0.19971691):\n",
    "    padCoordNums = [val, 0.02, 0.17926553, 0.25, 0.25]\n",
    "    padCoords = [[-0.05, 0.012], [0.05, 0.012], [padCoordNums[0], padCoordNums[1]], [padCoordNums[2], padCoordNums[3]], [0, padCoordNums[4]], [-padCoordNums[2], padCoordNums[3]], [-padCoordNums[0], padCoordNums[1]]]\n",
    "    padCoords2 = [[x[0],-x[1]] for x in padCoords][::-1]\n",
    "\n",
    "    poly1 = shapely.Polygon(padCoords).buffer(-0.04, join_style=1, quad_segs=4).buffer(0.04, join_style=1, quad_segs=4)\n",
    "    poly2 = shapely.Polygon(padCoords2).buffer(-0.04, join_style=1, quad_segs=4).buffer(0.04, join_style=1, quad_segs=4)\n",
    "\n",
    "    PolyShapely(design, 'pad1', options=dict(strShapely=poly1.__str__()))\n",
    "    PolyShapely(design, 'pad2', options=dict(strShapely=poly2.__str__()))\n",
    "\n",
    "    design.rebuild()\n",
    "\n",
    "    #Instantiate a COMSOL model\n",
    "    cmsl = COMSOL_Model('leModel')\n",
    "\n",
    "    #Create simulations to setup - in this case capacitance matrix and RF s-parameter\n",
    "    sim_sParams = COMSOL_Simulation_RFsParameters(cmsl, adaptive='None')\n",
    "\n",
    "    #(A) - Initialise model from Qiskit-Metal design object: design\n",
    "    cmsl.initialize_model(design, [sim_sParams], bottom_grounded=True)\n",
    "\n",
    "    cmsl.add_metallic(1, threshold=1e-12, fuse_threshold=1e-10)\n",
    "    cmsl.add_ground_plane()\n",
    "    cmsl.fuse_all_metals()\n",
    "\n",
    "    sim_sParams.create_port_JosephsonJunction('junction', L_J=4.3e-9, C_J=10e-15, R_J=10e3)\n",
    "\n",
    "    # sim_sParams.add_surface_current_source_region(\"dielectric\", 0.5)\n",
    "    # sim_sParams.add_surface_current_source_region(\"metals\", 10e-6, 2)\n",
    "\n",
    "    # edp_pts = ShapelyEx.get_points_uniform_in_polygon(poly1, 0.01,0.01)\n",
    "    # for cur_pt in edp_pts:\n",
    "    #     x, y = cur_pt[0]*0.001, cur_pt[1]*0.001 #Converting from mm to m\n",
    "    #     sim_sParams.add_electric_point_dipole([x,y, 1e-6], 1, [0,0,1])\n",
    "\n",
    "    sim_sParams.add_electric_point_dipole([0,0, 100e-6], 1, [0,1,0])\n",
    "    # sim_sParams.add_electric_point_dipole([0,0,0], 0, [0,1,0])\n",
    "\n",
    "    cmsl.fine_mesh_around_comp_boundaries(['pad1', 'pad2'], minElementSize=10e-6, maxElementSize=50e-6)\n",
    "\n",
    "    cmsl.build_geom_mater_elec_mesh(skip_meshing=True, mesh_structure='Fine')\n",
    "\n",
    "    sim_sParams.set_freq_values([8.0333e9])\n",
    "    # cmsl.plot()\n",
    "    sim_sParams.run()\n",
    "    results.append(sim_sParams.eval_field_at_pts('E', np.array([[0,0,0]])))\n",
    "    # cmsl.save('TestPts')\n",
    "results = np.array(results)[:,0,:]"
   ]
  },
  {
   "cell_type": "code",
   "execution_count": 4,
   "metadata": {},
   "outputs": [
    {
     "data": {
      "text/plain": [
       "[<matplotlib.lines.Line2D at 0x2532878bb90>]"
      ]
     },
     "execution_count": 4,
     "metadata": {},
     "output_type": "execute_result"
    },
    {
     "data": {
      "image/png": "[encoded data removed]",
      "text/plain": [
       "<Figure size 640x480 with 1 Axes>"
      ]
     },
     "metadata": {},
     "output_type": "display_data"
    }
   ],
   "source": [
    "%matplotlib inline\n",
    "\n",
    "import matplotlib.pyplot as plt\n",
    "\n",
    "# plt.plot(offset_vals, np.abs(results[:,0]), 'x-')\n",
    "plt.plot(offset_vals, np.abs(results[:,1]), 'x-')"
   ]
  },
  {
   "cell_type": "code",
   "execution_count": null,
   "metadata": {},
   "outputs": [
    {
     "data": {
      "text/plain": [
       "array([[ 8.90582812e-01+1.73221295e+07j, -1.35520689e+05-2.57167099e+12j,\n",
       "         3.71436175e+03+4.23012422e+10j],\n",
       "       [-5.03201521e-01-9.46276605e+06j, -1.38491443e+05-2.64080176e+12j,\n",
       "        -5.61158565e+03-1.09233545e+11j],\n",
       "       [-2.71904356e-01-4.31392883e+06j, -1.82437021e+05-2.99160941e+12j,\n",
       "         4.02044260e+03+4.70199868e+10j],\n",
       "       [-1.38276553e+00-2.11385149e+07j, -2.13676060e+05-3.26810002e+12j,\n",
       "        -5.64328302e+03-7.92831003e+10j],\n",
       "       [-5.11604812e+00-6.98632751e+07j, -2.68315544e+05-3.65341431e+12j,\n",
       "        -1.52061500e+04-1.96051786e+11j],\n",
       "       [ 3.08611995e+00+2.42975719e+07j, -8.26072313e+05-6.41784952e+12j,\n",
       "        -7.74013096e+03-5.16235276e+10j],\n",
       "       [-2.48792560e+00-1.73411673e+07j, -9.77318295e+05-7.00211471e+12j,\n",
       "        -2.24542529e+04-1.96475727e+11j],\n",
       "       [-1.72373224e+01-4.97278581e+07j, -6.09211993e+06-1.73738809e+13j,\n",
       "         3.35074656e+05+9.69757893e+11j],\n",
       "       [ 2.46685468e+02+3.34314755e+08j, -2.72178438e+07-3.69252023e+13j,\n",
       "         1.31717059e+06+1.79612736e+12j],\n",
       "       [ 4.89485160e+02-5.18979547e+08j, -4.54135599e+07+4.81212379e+13j,\n",
       "        -2.04723450e+06+2.17009922e+12j],\n",
       "       [-1.22241488e+01+7.34307981e+07j, -1.36303340e+06+8.22031012e+12j,\n",
       "         6.54551662e+04-3.79132386e+11j],\n",
       "       [-1.28952050e+01+8.90021460e+07j, -1.03320297e+06+7.15585967e+12j,\n",
       "         3.06097408e+04-2.12167282e+11j],\n",
       "       [ 1.90979197e+01-9.35248277e+07j, -2.06426019e+06+1.01417213e+13j,\n",
       "         3.37531113e+04-1.75233386e+11j],\n",
       "       [-5.12706020e+00+4.25580616e+07j, -6.90013911e+05+5.87496389e+12j,\n",
       "        -2.70398381e+04+2.53201441e+11j],\n",
       "       [ 2.56854825e+00-3.33816585e+07j, -2.91544506e+05+3.79317543e+12j,\n",
       "        -1.40642840e+04+1.52245855e+11j],\n",
       "       [ 1.13483110e+00-2.05280211e+07j, -1.63921006e+05+2.85820878e+12j,\n",
       "        -1.55511830e+03+2.13070159e+10j],\n",
       "       [ 8.51718867e-01-1.56148731e+07j, -1.52408482e+05+2.75555994e+12j,\n",
       "        -8.46373436e+03+1.37121507e+11j],\n",
       "       [ 1.95529489e+00-4.09209974e+07j, -1.21921347e+05+2.47750178e+12j,\n",
       "         1.41847315e+02+4.70974082e+09j],\n",
       "       [ 5.01098519e-01-1.15224753e+07j, -9.88822859e+04+2.22701563e+12j,\n",
       "        -2.82465578e+03+1.09303768e+11j],\n",
       "       [ 2.62247399e-01-7.93726122e+06j, -6.53417213e+04+1.80181592e+12j,\n",
       "        -3.24591559e+03+9.51272325e+10j],\n",
       "       [ 4.08314850e-01-1.35316569e+07j, -5.20954913e+04+1.61300843e+12j,\n",
       "        -2.30364958e+03+3.63664237e+10j]])"
      ]
     },
     "execution_count": 5,
     "metadata": {},
     "output_type": "execute_result"
    },
    {
     "ename": "",
     "evalue": "",
     "output_type": "error",
     "traceback": [
      "\u001b[1;31mThe Kernel crashed while executing code in the current cell or a previous cell. \n",
      "\u001b[1;31mPlease review the code in the cell(s) to identify a possible cause of the failure. \n",
      "\u001b[1;31mClick <a href='https://aka.ms/vscodeJupyterKernelCrash'>here</a> for more info. \n",
      "\u001b[1;31mView Jupyter <a href='command:jupyter.viewOutput'>log</a> for further details."
     ]
    }
   ],
   "source": [
    "results"
   ]
  },
  {
   "cell_type": "code",
   "execution_count": null,
   "metadata": {},
   "outputs": [],
   "source": []
  },
  {
   "cell_type": "code",
   "execution_count": null,
   "metadata": {},
   "outputs": [],
   "source": []
  }
 ],
 "metadata": {
  "kernelspec": {
   "display_name": "sf_sqd_env",
   "language": "python",
   "name": "python3"
  },
  "language_info": {
   "codemirror_mode": {
    "name": "ipython",
    "version": 3
   },
   "file_extension": ".py",
   "mimetype": "text/x-python",
   "name": "python",
   "nbconvert_exporter": "python",
   "pygments_lexer": "ipython3",
   "version": "3.11.3"
  }
 },
 "nbformat": 4,
 "nbformat_minor": 2
}
