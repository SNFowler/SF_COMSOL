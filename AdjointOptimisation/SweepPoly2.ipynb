{
 "cells": [
  {
   "cell_type": "code",
   "execution_count": 1,
   "metadata": {},
   "outputs": [],
   "source": [
    "%load_ext autoreload\n",
    "%autoreload 2\n",
    "import os\n",
    "os.environ[\"KMP_DUPLICATE_LIB_OK\"]=\"TRUE\"\n",
    "os.environ[\"PMIX_MCA_gds\"]=\"hash\"\n",
    "\n",
    "# Import useful packages\n",
    "import qiskit_metal as metal\n",
    "from qiskit_metal import designs, draw\n",
    "from qiskit_metal import MetalGUI, Dict, open_docs\n",
    "\n",
    "# To create plots after geting solution data.\n",
    "import matplotlib.pyplot as plt\n",
    "import numpy as np\n",
    "\n",
    "# Packages for the simple design\n",
    "from SQDMetal.Comps.Junctions import JunctionDolan\n",
    "import shapely\n",
    "from SQDMetal.Comps.Polygons import PolyShapely, PolyRectangle\n",
    "from SQDMetal.Comps.Joints import Joint\n",
    "\n",
    "\n",
    "# Set up chip design as planar, multiplanar also available\n",
    "design = designs.DesignPlanar({}, overwrite_enabled=True)\n",
    "\n",
    "# Set up chip dimensions \n",
    "design.chips.main.size.size_x = '800um'\n",
    "design.chips.main.size.size_y = '800um'\n",
    "design.chips.main.size.size_z = '500um'\n",
    "design.chips.main.size.center_x = '0mm'\n",
    "design.chips.main.size.center_y = '0mm'\n",
    "\n",
    "JunctionDolan(design, 'junction', options=Dict(pos_x=0, pos_y='-12um', end_x=0, end_y='12um',\n",
    "                                                         layer=2,\n",
    "                                                         finger_width='0.4um', t_pad_size='0.385um',\n",
    "                                                         squid_width='5.4um', prong_width='0.9um'));\n",
    "\n",
    "#Units in mm...\n",
    "padCoordNums = [0.19971691, 0.02, 0.17926553, 0.25, 0.25]\n",
    "padCoords = [[-0.05, 0.012], [0.05, 0.012], [padCoordNums[0], padCoordNums[1]], [padCoordNums[2], padCoordNums[3]], [0, padCoordNums[4]], [-padCoordNums[2], padCoordNums[3]], [-padCoordNums[0], padCoordNums[1]]]\n",
    "padCoords2 = [[x[0],-x[1]] for x in padCoords][::-1]\n",
    "\n",
    "# Smooth edges of pads\n",
    "poly1 = shapely.Polygon(padCoords).buffer(-0.04, join_style=1, quad_segs=4).buffer(0.04, join_style=1, quad_segs=4)\n",
    "poly2 = shapely.Polygon(padCoords2).buffer(-0.04, join_style=1, quad_segs=4).buffer(0.04, join_style=1, quad_segs=4)\n",
    "\n",
    "PolyShapely(design, 'pad1', options=dict(strShapely=poly1.__str__()))\n",
    "PolyShapely(design, 'pad2', options=dict(strShapely=poly2.__str__()))\n",
    "\n",
    "PolyRectangle(design, 'rectGnd', options=dict(pos_x='-300um',pos_y='-300um', end_x='300um',end_y='300um', is_ground_cutout=True))\n",
    "\n",
    "Joint(design, 'j1', options=dict(pos_x='0um', pos_y='-300um'))\n",
    "Joint(design, 'j2', options=dict(pos_x='0um', pos_y='300um'));\n",
    "\n",
    "# rebuild the GUI\n",
    "gui = MetalGUI(design)\n",
    "gui.rebuild()"
   ]
  },
  {
   "cell_type": "code",
   "execution_count": 2,
   "metadata": {},
   "outputs": [],
   "source": [
    "from SQDMetal.COMSOL.Model import COMSOL_Model\n",
    "from SQDMetal.COMSOL.SimCapacitance import COMSOL_Simulation_CapMats\n",
    "from SQDMetal.COMSOL.SimRFsParameter import COMSOL_Simulation_RFsParameters\n",
    "\n",
    "from SQDMetal.Utilities.ShapelyEx import ShapelyEx\n",
    "\n",
    "\n",
    "#Initialise the COMSOL engine (needs to only be run once)\n",
    "COMSOL_Model.init_engine()\n",
    "\n",
    "#Instantiate a COMSOL model\n",
    "cmsl = COMSOL_Model('leModel')\n",
    "\n",
    "#Create simulations to setup - in this case capacitance matrix and RF s-parameter\n",
    "sim_sParams = COMSOL_Simulation_RFsParameters(cmsl, adaptive='None')\n",
    "\n",
    "#(A) - Initialise model from Qiskit-Metal design object: design\n",
    "cmsl.initialize_model(design, [sim_sParams], bottom_grounded=True)\n",
    "\n",
    "cmsl.add_metallic(1, threshold=1e-20, fuse_threshold=1e-20)\n",
    "cmsl.add_ground_plane()\n",
    "cmsl.fuse_all_metals()\n",
    "\n",
    "sim_sParams.create_port_JosephsonJunction('junction', L_J=4.3e-9, C_J=10e-15)\n",
    "\n",
    "# sim_sParams.add_surface_current_source_region(\"dielectric\", 0.5)\n",
    "# sim_sParams.add_surface_current_source_region(\"metals\", 10e-6, 2)\n",
    "\n",
    "edp_pts = ShapelyEx.get_points_uniform_in_polygon(poly1, 0.02,0.02)\n",
    "for cur_pt in edp_pts:\n",
    "    x, y = cur_pt[0]*0.001, cur_pt[1]*0.001 #Converting from mm to m\n",
    "    sim_sParams.add_electric_point_dipole([x,y, 1e-6], 1, [0,0,1])\n",
    "\n",
    "cmsl.build_geom_mater_elec_mesh(skip_meshing=True, mesh_structure='Normal')\n",
    "\n",
    "sim_sParams.set_freq_values([8.118e9])\n",
    "# cmsl.plot()\n",
    "\n",
    "\n",
    "# cmsl.save('TestPts')"
   ]
  },
  {
   "cell_type": "code",
   "execution_count": 3,
   "metadata": {},
   "outputs": [],
   "source": [
    "cmsl.save('TestPts')"
   ]
  },
  {
   "cell_type": "code",
   "execution_count": 4,
   "metadata": {},
   "outputs": [
    {
     "data": {
      "text/plain": [
       "array([[8.118e+09]])"
      ]
     },
     "execution_count": 4,
     "metadata": {},
     "output_type": "execute_result"
    }
   ],
   "source": [
    "sim_sParams.run()"
   ]
  },
  {
   "cell_type": "code",
   "execution_count": 5,
   "metadata": {},
   "outputs": [],
   "source": [
    "field_data = sim_sParams.eval_fields_over_mesh()"
   ]
  },
  {
   "cell_type": "code",
   "execution_count": 6,
   "metadata": {},
   "outputs": [
    {
     "data": {
      "text/plain": [
       "array([[-7.09522629e+02+3.47338864e+10j,  7.83636538e+06-4.08451998e+14j,\n",
       "        -6.33434753e+04+7.20785004e+13j],\n",
       "       [ 1.01766409e+03-4.90214999e+10j,  8.29891057e+06-4.33858885e+14j,\n",
       "        -5.25061815e+06+3.98586874e+14j],\n",
       "       [ 1.08888980e+03-5.53311736e+10j,  8.29954292e+06-4.34022836e+14j,\n",
       "         5.53279776e+06-2.43431765e+14j],\n",
       "       [-4.41094633e-09-7.28364764e-01j,  1.08284154e-08-5.95161352e+00j,\n",
       "        -4.16020973e+06+7.11814288e+14j]])"
      ]
     },
     "execution_count": 6,
     "metadata": {},
     "output_type": "execute_result"
    }
   ],
   "source": [
    "sim_sParams.eval_field_at_pts('E', np.array([[0,0,0], [19e-9,10e-6,0], [0,-10e-6,0], [0,20e-6,0]]))"
   ]
  },
  {
   "cell_type": "code",
   "execution_count": 7,
   "metadata": {},
   "outputs": [
    {
     "name": "stderr",
     "output_type": "stream",
     "text": [
      "WARNING:py.warnings:c:\\Users\\Experiment\\anaconda3\\envs\\sqdmetal_env\\Lib\\site-packages\\matplotlib\\collections.py:192: ComplexWarning: Casting complex values to real discards the imaginary part\n",
      "  offsets = np.asanyarray(offsets, float)\n",
      "\n"
     ]
    },
    {
     "data": {
      "text/plain": [
       "<matplotlib.collections.PathCollection at 0x18f9a836810>"
      ]
     },
     "execution_count": 7,
     "metadata": {},
     "output_type": "execute_result"
    }
   ],
   "source": [
    "import matplotlib.pyplot as plt\n",
    "\n",
    "x,y,z,Ez = field_data['coords'][:,0], field_data['coords'][:,1], field_data['coords'][:,2], field_data['E'][:,2]\n",
    "\n",
    "plane_inds = (np.abs(z)<1e-6)\n",
    "plt.scatter(x[plane_inds], y[plane_inds], c=np.clip(np.abs(Ez[plane_inds]), 0,1e14))"
   ]
  },
  {
   "cell_type": "code",
   "execution_count": 8,
   "metadata": {},
   "outputs": [],
   "source": [
    "xx,yy = np.meshgrid(np.linspace(-400e-6,400e-6,100), np.linspace(-400e-6,400e-6,100))\n",
    "xx = np.ndarray.flatten(xx)\n",
    "yy = np.ndarray.flatten(yy)\n",
    "zz = np.zeros(xx.size)\n",
    "coord_xyz = np.vstack([xx,yy,zz]).T"
   ]
  },
  {
   "cell_type": "code",
   "execution_count": 13,
   "metadata": {},
   "outputs": [],
   "source": [
    "import matplotlib.pyplot as plt\n",
    "\n",
    "Ezinterpol = sim_sParams.eval_field_at_pts('Ez', coord_xyz)\n",
    "\n",
    "plane_inds = (np.abs(z)<1e-6)\n",
    "plt.scatter(xx, yy, c=np.clip(np.abs(Ezinterpol), 0,1e15))\n",
    "plt.show()"
   ]
  },
  {
   "cell_type": "code",
   "execution_count": 14,
   "metadata": {},
   "outputs": [
    {
     "data": {
      "text/plain": [
       "(10000,)"
      ]
     },
     "execution_count": 14,
     "metadata": {},
     "output_type": "execute_result"
    }
   ],
   "source": [
    "Ezinterpol.shape"
   ]
  },
  {
   "cell_type": "code",
   "execution_count": null,
   "metadata": {},
   "outputs": [],
   "source": [
    "cmsl.save('TestPts')"
   ]
  }
 ],
 "metadata": {
  "kernelspec": {
   "display_name": "sqdmetal_env",
   "language": "python",
   "name": "python3"
  },
  "language_info": {
   "codemirror_mode": {
    "name": "ipython",
    "version": 3
   },
   "file_extension": ".py",
   "mimetype": "text/x-python",
   "name": "python",
   "nbconvert_exporter": "python",
   "pygments_lexer": "ipython3",
   "version": "3.11.3"
  }
 },
 "nbformat": 4,
 "nbformat_minor": 2
}
